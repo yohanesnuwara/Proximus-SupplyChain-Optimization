{
 "cells": [
  {
   "cell_type": "markdown",
   "id": "dacb3559",
   "metadata": {},
   "source": [
    "# Vlerick use case : optimizing distribution policies"
   ]
  },
  {
   "cell_type": "markdown",
   "id": "66225f43",
   "metadata": {},
   "source": [
    "Presenting Proximus Ada's use case for the Vlerick hackcathon - 2024/04"
   ]
  },
  {
   "cell_type": "markdown",
   "id": "df5a53fd",
   "metadata": {},
   "source": [
    "--- "
   ]
  },
  {
   "cell_type": "markdown",
   "id": "99f008d3",
   "metadata": {},
   "source": [
    " "
   ]
  },
  {
   "cell_type": "markdown",
   "id": "76c6a58f",
   "metadata": {},
   "source": [
    "## Imports"
   ]
  },
  {
   "cell_type": "markdown",
   "id": "631b8b87",
   "metadata": {},
   "source": [
    "Public"
   ]
  },
  {
   "cell_type": "code",
   "execution_count": 1,
   "id": "32533755",
   "metadata": {},
   "outputs": [],
   "source": [
    "import os\n",
    "import io\n",
    "import sys\n",
    "import glob\n",
    "import copy\n",
    "import warnings\n",
    "import statistics\n",
    "from datetime import timedelta\n",
    "\n",
    "import gym\n",
    "import numpy as np\n",
    "import pandas as pd\n",
    "import matplotlib.pyplot as plt\n",
    "from IPython.display import clear_output\n",
    "\n",
    "%matplotlib inline"
   ]
  },
  {
   "cell_type": "markdown",
   "id": "46384ae1",
   "metadata": {},
   "source": [
    "Local"
   ]
  },
  {
   "cell_type": "code",
   "execution_count": 2,
   "id": "7ab5be85",
   "metadata": {},
   "outputs": [],
   "source": [
    "from custom_objects import *"
   ]
  },
  {
   "cell_type": "code",
   "execution_count": 3,
   "id": "d94c8056-2e0e-4167-a1ba-3ea8f745c1f1",
   "metadata": {},
   "outputs": [],
   "source": [
    "a=1"
   ]
  },
  {
   "cell_type": "code",
   "execution_count": 4,
   "id": "cb4de12a-e818-4469-8109-12b8e0ab7a3e",
   "metadata": {},
   "outputs": [
    {
     "name": "stdout",
     "output_type": "stream",
     "text": [
      "/home/jovyan/vlerick\n"
     ]
    }
   ],
   "source": [
    "!pwd"
   ]
  },
  {
   "cell_type": "markdown",
   "id": "9056743a",
   "metadata": {},
   "source": [
    " "
   ]
  },
  {
   "cell_type": "markdown",
   "id": "8d652d75",
   "metadata": {},
   "source": [
    "## Data"
   ]
  },
  {
   "cell_type": "markdown",
   "id": "74e63ae0",
   "metadata": {},
   "source": [
    "Reading basetable"
   ]
  },
  {
   "cell_type": "code",
   "execution_count": 5,
   "id": "e10d5035",
   "metadata": {},
   "outputs": [],
   "source": [
    "df = pd.read_pickle('/home/jovyan/vlerick/vlerick.pkl')"
   ]
  },
  {
   "cell_type": "code",
   "execution_count": 6,
   "id": "e6b1672e",
   "metadata": {},
   "outputs": [],
   "source": [
    "df.index.levels[-1].freq = 'D'"
   ]
  },
  {
   "cell_type": "markdown",
   "id": "30b327f0",
   "metadata": {},
   "source": [
    " "
   ]
  },
  {
   "cell_type": "markdown",
   "id": "83de23c5",
   "metadata": {},
   "source": [
    "## The problem"
   ]
  },
  {
   "cell_type": "markdown",
   "id": "ff671d5e",
   "metadata": {},
   "source": [
    "* There are a few materials"
   ]
  },
  {
   "cell_type": "code",
   "execution_count": 7,
   "id": "b3a9ca80",
   "metadata": {
    "scrolled": true
   },
   "outputs": [
    {
     "data": {
      "text/plain": [
       "[62003310,\n",
       " 64639795,\n",
       " 64639981,\n",
       " 64639984,\n",
       " 64639988,\n",
       " 64640000,\n",
       " 64640153,\n",
       " 64640219,\n",
       " 64641022]"
      ]
     },
     "execution_count": 7,
     "metadata": {},
     "output_type": "execute_result"
    }
   ],
   "source": [
    "materials = df.index.levels[0].unique().tolist()\n",
    "materials"
   ]
  },
  {
   "cell_type": "code",
   "execution_count": 8,
   "id": "c873fcc3",
   "metadata": {},
   "outputs": [],
   "source": [
    "material = 64640153 # 'Random' selection of a material for vizualization purposes"
   ]
  },
  {
   "cell_type": "markdown",
   "id": "dd3e19b9",
   "metadata": {},
   "source": [
    "* That are sold in quite a number of shops"
   ]
  },
  {
   "cell_type": "code",
   "execution_count": 9,
   "id": "74334565",
   "metadata": {
    "scrolled": true
   },
   "outputs": [
    {
     "data": {
      "text/plain": [
       "['B124',\n",
       " 'B238',\n",
       " 'B319',\n",
       " 'B420',\n",
       " 'B534',\n",
       " 'B536',\n",
       " 'T101',\n",
       " 'T102',\n",
       " 'T103',\n",
       " 'T105',\n",
       " 'T107',\n",
       " 'T110',\n",
       " 'T111',\n",
       " 'T113',\n",
       " 'T114',\n",
       " 'T115',\n",
       " 'T120',\n",
       " 'T125',\n",
       " 'T126',\n",
       " 'T127',\n",
       " 'T128',\n",
       " 'T129',\n",
       " 'T146',\n",
       " 'T149',\n",
       " 'T201',\n",
       " 'T202',\n",
       " 'T204',\n",
       " 'T205',\n",
       " 'T206',\n",
       " 'T207',\n",
       " 'T209',\n",
       " 'T210',\n",
       " 'T213',\n",
       " 'T215',\n",
       " 'T216',\n",
       " 'T220',\n",
       " 'T223',\n",
       " 'T232',\n",
       " 'T233',\n",
       " 'T234',\n",
       " 'T237',\n",
       " 'T238',\n",
       " 'T301',\n",
       " 'T302',\n",
       " 'T303',\n",
       " 'T304',\n",
       " 'T305',\n",
       " 'T311',\n",
       " 'T315',\n",
       " 'T316',\n",
       " 'T317',\n",
       " 'T318',\n",
       " 'T325',\n",
       " 'T348',\n",
       " 'T403',\n",
       " 'T407',\n",
       " 'T410',\n",
       " 'T411',\n",
       " 'T412',\n",
       " 'T413',\n",
       " 'T415',\n",
       " 'T504',\n",
       " 'T507',\n",
       " 'T508',\n",
       " 'T509',\n",
       " 'T510',\n",
       " 'T513',\n",
       " 'T517',\n",
       " 'T518',\n",
       " 'T520',\n",
       " 'T527',\n",
       " 'T529',\n",
       " 'T531',\n",
       " 'T724',\n",
       " 'T734',\n",
       " 'T743',\n",
       " 'T751',\n",
       " 'T753',\n",
       " 'T754',\n",
       " 'T760',\n",
       " 'T772',\n",
       " 'T780',\n",
       " 'T782',\n",
       " 'T790',\n",
       " 'T791',\n",
       " 'T792',\n",
       " 'T794',\n",
       " 'T942']"
      ]
     },
     "execution_count": 9,
     "metadata": {},
     "output_type": "execute_result"
    }
   ],
   "source": [
    "df.index.levels[1].unique().tolist()"
   ]
  },
  {
   "cell_type": "markdown",
   "id": "ca09f609",
   "metadata": {},
   "source": [
    "* Over a given period of time"
   ]
  },
  {
   "cell_type": "code",
   "execution_count": 10,
   "id": "430befb6",
   "metadata": {},
   "outputs": [
    {
     "data": {
      "text/plain": [
       "DatetimeIndex(['2023-09-01', '2023-09-02', '2023-09-03', '2023-09-04',\n",
       "               '2023-09-05', '2023-09-06', '2023-09-07', '2023-09-08',\n",
       "               '2023-09-09', '2023-09-10',\n",
       "               ...\n",
       "               '2024-03-20', '2024-03-21', '2024-03-22', '2024-03-23',\n",
       "               '2024-03-24', '2024-03-25', '2024-03-26', '2024-03-27',\n",
       "               '2024-03-28', '2024-03-29'],\n",
       "              dtype='datetime64[ns]', name='Date', length=211, freq='D')"
      ]
     },
     "execution_count": 10,
     "metadata": {},
     "output_type": "execute_result"
    }
   ],
   "source": [
    "df.index.levels[-1].unique()"
   ]
  },
  {
   "cell_type": "markdown",
   "id": "a31b807d",
   "metadata": {},
   "source": [
    "* Consequently, as suspected, we have data points per material-shop-day combinations"
   ]
  },
  {
   "cell_type": "code",
   "execution_count": 11,
   "id": "c14c330b",
   "metadata": {},
   "outputs": [
    {
     "data": {
      "text/plain": [
       "MultiIndex([(62003310, 'B124', '2023-09-12'),\n",
       "            (62003310, 'B124', '2023-09-13'),\n",
       "            (62003310, 'B124', '2023-09-14'),\n",
       "            (62003310, 'B124', '2023-09-15'),\n",
       "            (62003310, 'B124', '2023-09-16'),\n",
       "            (62003310, 'B124', '2023-09-17'),\n",
       "            (62003310, 'B124', '2023-09-18'),\n",
       "            (62003310, 'B124', '2023-09-19'),\n",
       "            (62003310, 'B124', '2023-09-20'),\n",
       "            (62003310, 'B124', '2023-09-21'),\n",
       "            ...\n",
       "            (64641022, 'T942', '2024-03-20'),\n",
       "            (64641022, 'T942', '2024-03-21'),\n",
       "            (64641022, 'T942', '2024-03-22'),\n",
       "            (64641022, 'T942', '2024-03-23'),\n",
       "            (64641022, 'T942', '2024-03-24'),\n",
       "            (64641022, 'T942', '2024-03-25'),\n",
       "            (64641022, 'T942', '2024-03-26'),\n",
       "            (64641022, 'T942', '2024-03-27'),\n",
       "            (64641022, 'T942', '2024-03-28'),\n",
       "            (64641022, 'T942', '2024-03-29')],\n",
       "           names=['Material', 'Plant', 'Date'], length=154179)"
      ]
     },
     "execution_count": 11,
     "metadata": {},
     "output_type": "execute_result"
    }
   ],
   "source": [
    "df.index"
   ]
  },
  {
   "cell_type": "markdown",
   "id": "a025e28a",
   "metadata": {},
   "source": [
    "* There are 13 available variables..."
   ]
  },
  {
   "cell_type": "code",
   "execution_count": 12,
   "id": "57e9a6fe",
   "metadata": {},
   "outputs": [
    {
     "data": {
      "text/plain": [
       "Description               DBramante recycled Magsafe cover Monaco - blac...\n",
       "Type                                                        Accessories A&C\n",
       "Supply                                                                  363\n",
       "Demand                                                                    0\n",
       "Price                                                                 29.99\n",
       "Status                                                     Ready for Launch\n",
       "Current_month_forecast                                                  250\n",
       "Daily_forecast                                                          0.1\n",
       "Hist_method                                                           NEVER\n",
       "Hist_activity                                                         21.31\n",
       "Hist_shop_stock                                                           0\n",
       "Hist_supplier_stock                                                     350\n",
       "Hist_sales                                                                0\n",
       "Name: (62003310, B124, 2023-09-12 00:00:00), dtype: object"
      ]
     },
     "execution_count": 12,
     "metadata": {},
     "output_type": "execute_result"
    }
   ],
   "source": [
    "df.iloc[0]"
   ]
  },
  {
   "cell_type": "markdown",
   "id": "7b57f653",
   "metadata": {},
   "source": [
    "* Of which __supply__ and __demand__ play a predominant role (more info on the other variables at the end)"
   ]
  },
  {
   "cell_type": "markdown",
   "id": "bab195be",
   "metadata": {},
   "source": [
    "    * Each MATERIAL has specific supply increases that are sent to the central warehouse"
   ]
  },
  {
   "cell_type": "code",
   "execution_count": 13,
   "id": "93776edb",
   "metadata": {},
   "outputs": [
    {
     "data": {
      "text/plain": [
       "<matplotlib.axes._subplots.AxesSubplot at 0x7f1d3cdca950>"
      ]
     },
     "execution_count": 13,
     "metadata": {},
     "output_type": "execute_result"
    },
    {
     "data": {
      "image/png": "[encoded data removed]",
      "text/plain": [
       "<Figure size 1080x504 with 1 Axes>"
      ]
     },
     "metadata": {
      "needs_background": "light"
     },
     "output_type": "display_data"
    }
   ],
   "source": [
    "fig, ax = plt.subplots(figsize=(15, 7))\n",
    "df.loc[material].Supply.groupby(level=-1).first().cumsum().plot()"
   ]
  },
  {
   "cell_type": "markdown",
   "id": "1e4ac3c5",
   "metadata": {},
   "source": [
    "    * And for each MATERIAL and SHOP, there's a specific demand"
   ]
  },
  {
   "cell_type": "code",
   "execution_count": 14,
   "id": "306a708a",
   "metadata": {},
   "outputs": [
    {
     "data": {
      "text/plain": [
       "<matplotlib.axes._subplots.AxesSubplot at 0x7f1dd53492d0>"
      ]
     },
     "execution_count": 14,
     "metadata": {},
     "output_type": "execute_result"
    },
    {
     "data": {
      "image/png": "[encoded data removed]",
      "text/plain": [
       "<Figure size 1080x504 with 1 Axes>"
      ]
     },
     "metadata": {
      "needs_background": "light"
     },
     "output_type": "display_data"
    }
   ],
   "source": [
    "fig, ax = plt.subplots(figsize=(15, 7))\n",
    "df.loc[material].loc['B124'].Demand.plot()\n",
    "df.loc[material].loc['T942'].Demand.plot()"
   ]
  },
  {
   "cell_type": "markdown",
   "id": "d80f8957",
   "metadata": {},
   "source": [
    "* There are costs incurred for:"
   ]
  },
  {
   "cell_type": "markdown",
   "id": "910ed588",
   "metadata": {},
   "source": [
    "    * Every unit of unmet demand"
   ]
  },
  {
   "cell_type": "code",
   "execution_count": 15,
   "id": "1127c7a2",
   "metadata": {},
   "outputs": [
    {
     "data": {
      "text/plain": [
       "250"
      ]
     },
     "execution_count": 15,
     "metadata": {},
     "output_type": "execute_result"
    }
   ],
   "source": [
    "UNDERSTOCK_COST"
   ]
  },
  {
   "cell_type": "markdown",
   "id": "5208258b",
   "metadata": {},
   "source": [
    "    * Every unit of unsold stock still remaining in shop"
   ]
  },
  {
   "cell_type": "code",
   "execution_count": 16,
   "id": "673d3866",
   "metadata": {
    "scrolled": true
   },
   "outputs": [
    {
     "data": {
      "text/plain": [
       "0.05"
      ]
     },
     "execution_count": 16,
     "metadata": {},
     "output_type": "execute_result"
    }
   ],
   "source": [
    "OVERSTOCK_COST"
   ]
  },
  {
   "cell_type": "markdown",
   "id": "559dc106",
   "metadata": {},
   "source": [
    "    * Every unit of end-of-life overstock"
   ]
  },
  {
   "cell_type": "code",
   "execution_count": 17,
   "id": "06494ab7",
   "metadata": {},
   "outputs": [
    {
     "data": {
      "text/plain": [
       "180"
      ]
     },
     "execution_count": 17,
     "metadata": {},
     "output_type": "execute_result"
    }
   ],
   "source": [
    "TERMINAL_COST"
   ]
  },
  {
   "cell_type": "markdown",
   "id": "c993c534",
   "metadata": {},
   "source": [
    " "
   ]
  },
  {
   "cell_type": "markdown",
   "id": "b1c66610",
   "metadata": {},
   "source": [
    "__>>> MAIN RESEARCH QUESTION__:\n",
    "> Given the fact that orders are delivered after a 2 day lead time, what is the strategy that will minimize these costs?"
   ]
  },
  {
   "cell_type": "markdown",
   "id": "b5bd9135",
   "metadata": {},
   "source": [
    " "
   ]
  },
  {
   "cell_type": "markdown",
   "id": "7ebd98cb",
   "metadata": {},
   "source": [
    "## The tools"
   ]
  },
  {
   "cell_type": "markdown",
   "id": "eb004ffe",
   "metadata": {},
   "source": [
    "The `MPInvManagementEnv` will help you validate your assumptions by simulating your delivery strategy per material over all shops. It will automatically take into account above mentioned costs."
   ]
  },
  {
   "cell_type": "markdown",
   "id": "dd4d80ae",
   "metadata": {},
   "source": [
    "> __Tip__: don't hesitate to have a look at the object's docstrings, to get a full view of the available attributes for example ."
   ]
  },
  {
   "cell_type": "code",
   "execution_count": 18,
   "id": "dba1bd9b",
   "metadata": {
    "scrolled": true
   },
   "outputs": [
    {
     "name": "stdout",
     "output_type": "stream",
     "text": [
      "Help on class MPInvManagementEnv in module custom_objects:\n",
      "\n",
      "class MPInvManagementEnv(gym.core.Env)\n",
      " |  MPInvManagementEnv(demand_dist: Union[dict, pandas.core.frame.DataFrame], supply_dist: Union[dict, pandas.core.series.Series], init_inv: Union[dict, int] = 0, lead_time: Union[dict, int] = 2, resupply_first: bool = True, overstock_cost: Union[int, float] = 0.05, understock_cost: Union[int, float] = 250, terminal_cost: Union[int, float] = 180, transformer: Union[Callable, NoneType] = None, observer: Union[Callable, NoneType] = None, reset: bool = True) -> None\n",
      " |  \n",
      " |  Multi Plant Inventory Management Environment.\n",
      " |  \n",
      " |  Args:\n",
      " |      demand_dist: The distribution of demands over time per plant.\n",
      " |      supply_dist: The distribution of supply increases over time.\n",
      " |      init_inv: The initial inventory level.\n",
      " |      lead_time: The time in days between order placement and delivery. Can be a mapping for each plant; Which itself\n",
      " |                 can be a mapping for each weekday.\n",
      " |      resupply_first: Whether to add supply increases before or after action assessment.\n",
      " |      overstock_cost: The unit cost in case of overstock.\n",
      " |      understock_cost: The unit cost in case of understock.\n",
      " |      terminal_cost: The unit cost in case of overstock at period end.\n",
      " |      transformer: Function for transforming incoming actions towards absolute values to be distributed.\n",
      " |      observer: Function managing underlying observation returns.\n",
      " |      reset: Whether to automatically reset on init or not.\n",
      " |  \n",
      " |  Attributes:\n",
      " |      plants: Collection of all plants.\n",
      " |      indexmax: Index ceil, over all plants.\n",
      " |      indexmaxpp: Index ceil, per plant.\n",
      " |      indexmin: Index floor, over all plants.\n",
      " |      indexminpp: Index floor, per plant.\n",
      " |      indexfreq: Frequency of the index.\n",
      " |      index: Current index depicting the environment's position.\n",
      " |      ordr: Inventory increases ordrered, per plant.\n",
      " |      incr: Inventory increases planned, per plant.\n",
      " |      inv: Current inventory, per plant.\n",
      " |      supply: Current supply, for all plants.\n",
      " |      sales: Completed sales, per plant.\n",
      " |      understock: Number of units in understock, per plant.\n",
      " |      overstock: Number of units in overstock, per plant.\n",
      " |      terminalstock: Number of units in terminalstock, per plant.\n",
      " |      done: Indication of whether or not the episode has reached its end.\n",
      " |  \n",
      " |  Notes:\n",
      " |      Time for the multiple demand_dist and supply_dist can be of type interger or pd.DatetimeIndex with given freq.\n",
      " |  \n",
      " |  Method resolution order:\n",
      " |      MPInvManagementEnv\n",
      " |      gym.core.Env\n",
      " |      builtins.object\n",
      " |  \n",
      " |  Methods defined here:\n",
      " |  \n",
      " |  __init__(self, demand_dist: Union[dict, pandas.core.frame.DataFrame], supply_dist: Union[dict, pandas.core.series.Series], init_inv: Union[dict, int] = 0, lead_time: Union[dict, int] = 2, resupply_first: bool = True, overstock_cost: Union[int, float] = 0.05, understock_cost: Union[int, float] = 250, terminal_cost: Union[int, float] = 180, transformer: Union[Callable, NoneType] = None, observer: Union[Callable, NoneType] = None, reset: bool = True) -> None\n",
      " |      Initialize self.  See help(type(self)) for accurate signature.\n",
      " |  \n",
      " |  get(self, label, index=None, fill=0)\n",
      " |      Get environment arrayed attribute with default fill.\n",
      " |  \n",
      " |  get_observation(self, index: Union[int, NoneType] = None) -> numpy.ndarray\n",
      " |      Get current observable data to make informed distribution decision.\n",
      " |      Returns index if no observer is set.\n",
      " |  \n",
      " |  get_tranformation(self, actions: numpy.ndarray) -> numpy.ndarray\n",
      " |      Get current observable data to make informed distribution decision.\n",
      " |      Returns actions if no transformer is set.\n",
      " |  \n",
      " |  plot(self, window: Union[int, tuple] = 31) -> None\n",
      " |      Plot information.\n",
      " |  \n",
      " |  render(self, mode: str = 'human') -> None\n",
      " |      Override render abstractmethod.\n",
      " |  \n",
      " |  reset(self, index: Union[pandas._libs.tslibs.timestamps.Timestamp, NoneType] = None) -> tuple\n",
      " |      Reset environment.\n",
      " |      \n",
      " |      Args:\n",
      " |          index\n",
      " |  \n",
      " |  step(self, action: int, render: bool = False, warn: bool = False) -> tuple\n",
      " |      For all plants: log action if valid, execute previously logged actions, and step forward.\n",
      " |  \n",
      " |  ----------------------------------------------------------------------\n",
      " |  Data descriptors defined here:\n",
      " |  \n",
      " |  observer\n",
      " |      Get observer function.\n",
      " |  \n",
      " |  read\n",
      " |      Read environment attributes in pandas.\n",
      " |  \n",
      " |  transformer\n",
      " |      Get transformer function.\n",
      " |  \n",
      " |  ----------------------------------------------------------------------\n",
      " |  Methods inherited from gym.core.Env:\n",
      " |  \n",
      " |  __enter__(self)\n",
      " |      Support with-statement for the environment.\n",
      " |  \n",
      " |  __exit__(self, *args)\n",
      " |      Support with-statement for the environment.\n",
      " |  \n",
      " |  __str__(self)\n",
      " |      Return str(self).\n",
      " |  \n",
      " |  close(self)\n",
      " |      Override close in your subclass to perform any necessary cleanup.\n",
      " |      \n",
      " |      Environments will automatically close() themselves when\n",
      " |      garbage collected or when the program exits.\n",
      " |  \n",
      " |  seed(self, seed=None)\n",
      " |      Sets the seed for this env's random number generator(s).\n",
      " |      \n",
      " |      Note:\n",
      " |          Some environments use multiple pseudorandom number generators.\n",
      " |          We want to capture all such seeds used in order to ensure that\n",
      " |          there aren't accidental correlations between multiple generators.\n",
      " |      \n",
      " |      Returns:\n",
      " |          list<bigint>: Returns the list of seeds used in this env's random\n",
      " |            number generators. The first value in the list should be the\n",
      " |            \"main\" seed, or the value which a reproducer should pass to\n",
      " |            'seed'. Often, the main seed equals the provided 'seed', but\n",
      " |            this won't be true if seed=None, for example.\n",
      " |  \n",
      " |  ----------------------------------------------------------------------\n",
      " |  Data descriptors inherited from gym.core.Env:\n",
      " |  \n",
      " |  __dict__\n",
      " |      dictionary for instance variables (if defined)\n",
      " |  \n",
      " |  __weakref__\n",
      " |      list of weak references to the object (if defined)\n",
      " |  \n",
      " |  unwrapped\n",
      " |      Completely unwrap this env.\n",
      " |      \n",
      " |      Returns:\n",
      " |          gym.Env: The base non-wrapped gym.Env instance\n",
      " |  \n",
      " |  ----------------------------------------------------------------------\n",
      " |  Data and other attributes inherited from gym.core.Env:\n",
      " |  \n",
      " |  action_space = None\n",
      " |  \n",
      " |  metadata = {'render.modes': []}\n",
      " |  \n",
      " |  observation_space = None\n",
      " |  \n",
      " |  reward_range = (-inf, inf)\n",
      " |  \n",
      " |  spec = None\n",
      "\n"
     ]
    }
   ],
   "source": [
    "help(MPInvManagementEnv)"
   ]
  },
  {
   "cell_type": "markdown",
   "id": "3932af03",
   "metadata": {},
   "source": [
    "Using it, requires minor processing of our `df`. We do this on a slice of our previously selected material."
   ]
  },
  {
   "cell_type": "code",
   "execution_count": 19,
   "id": "1fb7c210-feb5-4b6a-bf3e-34cbb07b2dbb",
   "metadata": {},
   "outputs": [],
   "source": [
    "# df_material[df_material.Status=='Maturity'].Date"
   ]
  },
  {
   "cell_type": "code",
   "execution_count": 20,
   "id": "3a5923ff",
   "metadata": {},
   "outputs": [],
   "source": [
    "material=64640153\n",
    "dist_dict = dist_df_to_dict(df.loc[material][['Demand', 'Supply']])"
   ]
  },
  {
   "cell_type": "markdown",
   "id": "3893f085",
   "metadata": {},
   "source": [
    "__The environment allows us to step through time and take supply decisions at every step, which accordingly, will trigger resupplies (after the lead time of 2 days). The environment will compute the aformentioned costs based on the resulting stock levels vs. demand.__"
   ]
  },
  {
   "cell_type": "markdown",
   "id": "4f52610b",
   "metadata": {},
   "source": [
    "Let's plot the initial situation."
   ]
  },
  {
   "cell_type": "markdown",
   "id": "a33dd74a-a4fd-4f41-85ae-7fbe3ecf521f",
   "metadata": {},
   "source": [
    "## Simulation"
   ]
  },
  {
   "cell_type": "code",
   "execution_count": 21,
   "id": "73e6862b",
   "metadata": {
    "scrolled": true
   },
   "outputs": [
    {
     "name": "stderr",
     "output_type": "stream",
     "text": [
      "/home/jovyan/vlerick/custom_objects.py:269: UserWarning: Failed to set observation space.\n"
     ]
    }
   ],
   "source": [
    "mpenv = MPInvManagementEnv(**dist_dict)"
   ]
  },
  {
   "cell_type": "code",
   "execution_count": 22,
   "id": "c06c7cab",
   "metadata": {
    "scrolled": true
   },
   "outputs": [
    {
     "data": {
      "image/png": "[encoded data removed]",
      "text/plain": [
       "<Figure size 1224x504 with 1 Axes>"
      ]
     },
     "metadata": {
      "needs_background": "light"
     },
     "output_type": "display_data"
    }
   ],
   "source": [
    "mpenv.plot()"
   ]
  },
  {
   "cell_type": "markdown",
   "id": "0d029626",
   "metadata": {},
   "source": [
    "> Demand and supply (increments) are known but should be considered as unknown when tackling this exercise. Sales and inventory will result from the actions taken."
   ]
  },
  {
   "cell_type": "markdown",
   "id": "d72b0807",
   "metadata": {},
   "source": [
    "Let's advance time with a couple of days. Default return is `(time, cost, end_of_available_data)`"
   ]
  },
  {
   "cell_type": "code",
   "execution_count": 23,
   "id": "436d33d5",
   "metadata": {},
   "outputs": [
    {
     "data": {
      "text/plain": [
       "[(Timestamp('2023-09-02 00:00:00'), -10000.0, False, {}),\n",
       " (Timestamp('2023-09-03 00:00:00'), -0.0, False, {}),\n",
       " (Timestamp('2023-09-04 00:00:00'), -10750.0, False, {})]"
      ]
     },
     "execution_count": 23,
     "metadata": {},
     "output_type": "execute_result"
    }
   ],
   "source": [
    "[mpenv.step(0) for i in range(3)]"
   ]
  },
  {
   "cell_type": "code",
   "execution_count": 24,
   "id": "8cef934e",
   "metadata": {},
   "outputs": [
    {
     "data": {
      "image/png": "[encoded data removed]",
      "text/plain": [
       "<Figure size 1224x504 with 1 Axes>"
      ]
     },
     "metadata": {
      "needs_background": "light"
     },
     "output_type": "display_data"
    }
   ],
   "source": [
    "mpenv.plot()"
   ]
  },
  {
   "cell_type": "markdown",
   "id": "1a61bd66",
   "metadata": {},
   "source": [
    "> No inventory = missed sales = big understock costs"
   ]
  },
  {
   "cell_type": "markdown",
   "id": "d06de281",
   "metadata": {},
   "source": [
    "Let's resupply those shops with 2 units everywhere"
   ]
  },
  {
   "cell_type": "code",
   "execution_count": 25,
   "id": "f6ab2c5d",
   "metadata": {},
   "outputs": [
    {
     "data": {
      "text/plain": [
       "(Timestamp('2023-09-05 00:00:00'), -7000.0, False, {})"
      ]
     },
     "execution_count": 25,
     "metadata": {},
     "output_type": "execute_result"
    }
   ],
   "source": [
    "mpenv.step(2)"
   ]
  },
  {
   "cell_type": "code",
   "execution_count": 26,
   "id": "7a932fd3",
   "metadata": {},
   "outputs": [
    {
     "data": {
      "image/png": "[encoded data removed]",
      "text/plain": [
       "<Figure size 1224x504 with 1 Axes>"
      ]
     },
     "metadata": {
      "needs_background": "light"
     },
     "output_type": "display_data"
    }
   ],
   "source": [
    "mpenv.plot()"
   ]
  },
  {
   "cell_type": "markdown",
   "id": "0753a4d6",
   "metadata": {},
   "source": [
    "> No inventory? We forgot to take into account the lead time of 2 days..."
   ]
  },
  {
   "cell_type": "code",
   "execution_count": 27,
   "id": "f2a98876",
   "metadata": {},
   "outputs": [
    {
     "data": {
      "text/plain": [
       "[(Timestamp('2023-09-06 00:00:00'), -13500.0, False, {}),\n",
       " (Timestamp('2023-09-07 00:00:00'), -16250.0, False, {})]"
      ]
     },
     "execution_count": 27,
     "metadata": {},
     "output_type": "execute_result"
    }
   ],
   "source": [
    "[mpenv.step(0) for i in range(2)]"
   ]
  },
  {
   "cell_type": "code",
   "execution_count": 28,
   "id": "b3199dac",
   "metadata": {},
   "outputs": [
    {
     "data": {
      "image/png": "[encoded data removed]",
      "text/plain": [
       "<Figure size 1224x504 with 1 Axes>"
      ]
     },
     "metadata": {
      "needs_background": "light"
     },
     "output_type": "display_data"
    }
   ],
   "source": [
    "mpenv.plot()"
   ]
  },
  {
   "cell_type": "markdown",
   "id": "1047b1a7",
   "metadata": {},
   "source": [
    "> There we go, 2 units in 88 shops = 176 units of stock in total over all shops."
   ]
  },
  {
   "cell_type": "markdown",
   "id": "3919933e",
   "metadata": {},
   "source": [
    "Let's advance time again and check the situation for 1 of the shops specifically."
   ]
  },
  {
   "cell_type": "code",
   "execution_count": 29,
   "id": "8d5b6788",
   "metadata": {},
   "outputs": [
    {
     "data": {
      "text/plain": [
       "<matplotlib.legend.Legend at 0x7f1dd4a4eb10>"
      ]
     },
     "execution_count": 29,
     "metadata": {},
     "output_type": "execute_result"
    },
    {
     "data": {
      "image/png": "[encoded data removed]",
      "text/plain": [
       "<Figure size 1080x504 with 1 Axes>"
      ]
     },
     "metadata": {
      "needs_background": "light"
     },
     "output_type": "display_data"
    }
   ],
   "source": [
    "fig, ax = plt.subplots(figsize=(15, 7))\n",
    "plant = mpenv.plants[0]\n",
    "mpenv.read.ordr.loc[:, plant].replace(0, np.nan).plot(style=\".\", label='Orders')\n",
    "mpenv.read.inv.loc[:, plant].plot(c='C0', label='Inventory')\n",
    "mpenv.read.demand_dist.loc[:mpenv.index, plant].plot(label='Demand')\n",
    "mpenv.read.sales.loc[:, plant].add(0.05).plot(c='C1', linestyle='--', label='Sales')\n",
    "mpenv.read.understock.loc[:, plant].add(0.1).plot(c='black', label='Understock')\n",
    "plt.legend()"
   ]
  },
  {
   "cell_type": "markdown",
   "id": "e7fb48fb-7261-4ffe-b4de-5e8406330057",
   "metadata": {},
   "source": [
    "ready launch=order supply, less restocking\n",
    "launch=higher restocking that ready lunch\n",
    "maturity, higher stock resuply\n",
    "eol, less resuply"
   ]
  },
  {
   "cell_type": "markdown",
   "id": "5f2e8c36",
   "metadata": {},
   "source": [
    "> A bit more code required here to plot the situation for a single shop, but still very doable to get to the bottom of the situation!"
   ]
  },
  {
   "cell_type": "markdown",
   "id": "9c4473b8",
   "metadata": {},
   "source": [
    "When taking actions you can input a range of actions, 1 for every shop. Let's resupply 1 unit to half the shops..."
   ]
  },
  {
   "cell_type": "code",
   "execution_count": 30,
   "id": "5adfff25",
   "metadata": {},
   "outputs": [
    {
     "data": {
      "image/png": "[encoded data removed]",
      "text/plain": [
       "<Figure size 1224x504 with 1 Axes>"
      ]
     },
     "metadata": {
      "needs_background": "light"
     },
     "output_type": "display_data"
    }
   ],
   "source": [
    "mpenv.plot()"
   ]
  },
  {
   "cell_type": "code",
   "execution_count": 31,
   "id": "df890039",
   "metadata": {},
   "outputs": [
    {
     "data": {
      "text/plain": [
       "array([1, 1, 1, 1, 1, 1, 1, 1, 1, 1, 1, 1, 1, 1, 1, 1, 1, 1, 1, 1, 1, 1,\n",
       "       1, 1, 1, 1, 1, 1, 1, 1, 1, 1, 1, 1, 1, 1, 1, 1, 1, 1, 1, 1, 1, 1,\n",
       "       0, 0, 0, 0, 0, 0, 0, 0, 0, 0, 0, 0, 0, 0, 0, 0, 0, 0, 0, 0, 0, 0,\n",
       "       0, 0, 0, 0, 0, 0, 0, 0, 0, 0, 0, 0, 0, 0, 0, 0, 0, 0, 0, 0, 0, 0])"
      ]
     },
     "execution_count": 31,
     "metadata": {},
     "output_type": "execute_result"
    }
   ],
   "source": [
    "size = mpenv.plants.size\n",
    "action = np.append(np.repeat(1, size//2), np.repeat(0, size//2))\n",
    "action"
   ]
  },
  {
   "cell_type": "code",
   "execution_count": 32,
   "id": "22c6cd9c",
   "metadata": {},
   "outputs": [
    {
     "data": {
      "text/plain": [
       "(Timestamp('2023-09-08 00:00:00'), -256.6, False, {})"
      ]
     },
     "execution_count": 32,
     "metadata": {},
     "output_type": "execute_result"
    }
   ],
   "source": [
    "mpenv.step(action)"
   ]
  },
  {
   "cell_type": "code",
   "execution_count": 33,
   "id": "48cb920c",
   "metadata": {},
   "outputs": [],
   "source": [
    "[mpenv.step(0) for i in range(2)];"
   ]
  },
  {
   "cell_type": "code",
   "execution_count": 34,
   "id": "f4ce6dd7",
   "metadata": {},
   "outputs": [
    {
     "data": {
      "image/png": "[encoded data removed]",
      "text/plain": [
       "<Figure size 1224x504 with 1 Axes>"
      ]
     },
     "metadata": {
      "needs_background": "light"
     },
     "output_type": "display_data"
    }
   ],
   "source": [
    "mpenv.plot()"
   ]
  },
  {
   "cell_type": "code",
   "execution_count": 35,
   "id": "6c772610",
   "metadata": {},
   "outputs": [
    {
     "name": "stdout",
     "output_type": "stream",
     "text": [
      "Inventory increase = 44\n",
      "Half the number of shops = 44\n"
     ]
    }
   ],
   "source": [
    "print('Inventory increase =', int(mpenv.read.inv.sum(axis=1).iloc[-1]-mpenv.read.inv.sum(axis=1).iloc[-2]))\n",
    "print('Half the number of shops =', size//2)"
   ]
  },
  {
   "cell_type": "markdown",
   "id": "69ba3266",
   "metadata": {},
   "source": [
    "> As expected, confirms our assumption visually and numerically."
   ]
  },
  {
   "cell_type": "markdown",
   "id": "9d5f384a",
   "metadata": {},
   "source": [
    "> __Tip__: you can reset the environment to its starting situation with `env.reset()`"
   ]
  },
  {
   "cell_type": "markdown",
   "id": "c747e810",
   "metadata": {},
   "source": [
    "We can wrap this cycling between actions in a nice function, which will output the sum of costs, nice!"
   ]
  },
  {
   "cell_type": "code",
   "execution_count": 36,
   "id": "f1140676",
   "metadata": {},
   "outputs": [
    {
     "name": "stdout",
     "output_type": "stream",
     "text": [
      "Help on function run_policied_env in module custom_objects:\n",
      "\n",
      "run_policied_env(env, policy=None, params=None, render=False)\n",
      "    Unfold (s)-environment with specified policy actions.\n",
      "    \n",
      "    Args:\n",
      "        env: (Sampable) environment managing a simulations' evolution.\n",
      "        policy: Distribution decision function. If None, uses the environment's transformer as policy.\n",
      "        params: Parameters to the policy.        \n",
      "        render: Whether to plot results or not.\n",
      "\n"
     ]
    }
   ],
   "source": [
    "help(run_policied_env)"
   ]
  },
  {
   "cell_type": "markdown",
   "id": "03855acf",
   "metadata": {},
   "source": [
    "But first we need a delivery policy ... maybe trigger a reorder of X units if the stock falls to 0."
   ]
  },
  {
   "cell_type": "code",
   "execution_count": 37,
   "id": "4e510f09-4f31-4702-92f1-c16d70b2c81d",
   "metadata": {},
   "outputs": [
    {
     "data": {
      "text/html": [
       "<div>\n",
       "<style scoped>\n",
       "    .dataframe tbody tr th:only-of-type {\n",
       "        vertical-align: middle;\n",
       "    }\n",
       "\n",
       "    .dataframe tbody tr th {\n",
       "        vertical-align: top;\n",
       "    }\n",
       "\n",
       "    .dataframe thead th {\n",
       "        text-align: right;\n",
       "    }\n",
       "</style>\n",
       "<table border=\"1\" class=\"dataframe\">\n",
       "  <thead>\n",
       "    <tr style=\"text-align: right;\">\n",
       "      <th></th>\n",
       "      <th>B124</th>\n",
       "      <th>B238</th>\n",
       "      <th>B319</th>\n",
       "      <th>B420</th>\n",
       "      <th>B534</th>\n",
       "      <th>B536</th>\n",
       "      <th>T101</th>\n",
       "      <th>T102</th>\n",
       "      <th>T103</th>\n",
       "      <th>T105</th>\n",
       "      <th>...</th>\n",
       "      <th>T754</th>\n",
       "      <th>T760</th>\n",
       "      <th>T772</th>\n",
       "      <th>T780</th>\n",
       "      <th>T782</th>\n",
       "      <th>T790</th>\n",
       "      <th>T791</th>\n",
       "      <th>T792</th>\n",
       "      <th>T794</th>\n",
       "      <th>T942</th>\n",
       "    </tr>\n",
       "  </thead>\n",
       "  <tbody>\n",
       "    <tr>\n",
       "      <th>2023-09-01</th>\n",
       "      <td>0.0</td>\n",
       "      <td>0.0</td>\n",
       "      <td>0.0</td>\n",
       "      <td>0.0</td>\n",
       "      <td>0.0</td>\n",
       "      <td>0.0</td>\n",
       "      <td>0.0</td>\n",
       "      <td>0.0</td>\n",
       "      <td>0.0</td>\n",
       "      <td>0.0</td>\n",
       "      <td>...</td>\n",
       "      <td>0.0</td>\n",
       "      <td>0.0</td>\n",
       "      <td>0.0</td>\n",
       "      <td>0.0</td>\n",
       "      <td>0.0</td>\n",
       "      <td>0.0</td>\n",
       "      <td>0.0</td>\n",
       "      <td>0.0</td>\n",
       "      <td>0.0</td>\n",
       "      <td>0.0</td>\n",
       "    </tr>\n",
       "    <tr>\n",
       "      <th>2023-09-02</th>\n",
       "      <td>0.0</td>\n",
       "      <td>0.0</td>\n",
       "      <td>0.0</td>\n",
       "      <td>0.0</td>\n",
       "      <td>0.0</td>\n",
       "      <td>0.0</td>\n",
       "      <td>0.0</td>\n",
       "      <td>0.0</td>\n",
       "      <td>0.0</td>\n",
       "      <td>0.0</td>\n",
       "      <td>...</td>\n",
       "      <td>0.0</td>\n",
       "      <td>0.0</td>\n",
       "      <td>0.0</td>\n",
       "      <td>0.0</td>\n",
       "      <td>0.0</td>\n",
       "      <td>0.0</td>\n",
       "      <td>0.0</td>\n",
       "      <td>0.0</td>\n",
       "      <td>0.0</td>\n",
       "      <td>0.0</td>\n",
       "    </tr>\n",
       "    <tr>\n",
       "      <th>2023-09-03</th>\n",
       "      <td>0.0</td>\n",
       "      <td>0.0</td>\n",
       "      <td>0.0</td>\n",
       "      <td>0.0</td>\n",
       "      <td>0.0</td>\n",
       "      <td>0.0</td>\n",
       "      <td>0.0</td>\n",
       "      <td>0.0</td>\n",
       "      <td>0.0</td>\n",
       "      <td>0.0</td>\n",
       "      <td>...</td>\n",
       "      <td>0.0</td>\n",
       "      <td>0.0</td>\n",
       "      <td>0.0</td>\n",
       "      <td>0.0</td>\n",
       "      <td>0.0</td>\n",
       "      <td>0.0</td>\n",
       "      <td>0.0</td>\n",
       "      <td>0.0</td>\n",
       "      <td>0.0</td>\n",
       "      <td>0.0</td>\n",
       "    </tr>\n",
       "    <tr>\n",
       "      <th>2023-09-04</th>\n",
       "      <td>0.0</td>\n",
       "      <td>0.0</td>\n",
       "      <td>0.0</td>\n",
       "      <td>0.0</td>\n",
       "      <td>0.0</td>\n",
       "      <td>0.0</td>\n",
       "      <td>0.0</td>\n",
       "      <td>0.0</td>\n",
       "      <td>0.0</td>\n",
       "      <td>0.0</td>\n",
       "      <td>...</td>\n",
       "      <td>0.0</td>\n",
       "      <td>0.0</td>\n",
       "      <td>0.0</td>\n",
       "      <td>0.0</td>\n",
       "      <td>0.0</td>\n",
       "      <td>0.0</td>\n",
       "      <td>0.0</td>\n",
       "      <td>0.0</td>\n",
       "      <td>0.0</td>\n",
       "      <td>0.0</td>\n",
       "    </tr>\n",
       "    <tr>\n",
       "      <th>2023-09-05</th>\n",
       "      <td>0.0</td>\n",
       "      <td>0.0</td>\n",
       "      <td>0.0</td>\n",
       "      <td>0.0</td>\n",
       "      <td>0.0</td>\n",
       "      <td>0.0</td>\n",
       "      <td>0.0</td>\n",
       "      <td>0.0</td>\n",
       "      <td>0.0</td>\n",
       "      <td>0.0</td>\n",
       "      <td>...</td>\n",
       "      <td>0.0</td>\n",
       "      <td>0.0</td>\n",
       "      <td>0.0</td>\n",
       "      <td>0.0</td>\n",
       "      <td>0.0</td>\n",
       "      <td>0.0</td>\n",
       "      <td>0.0</td>\n",
       "      <td>0.0</td>\n",
       "      <td>0.0</td>\n",
       "      <td>0.0</td>\n",
       "    </tr>\n",
       "    <tr>\n",
       "      <th>2023-09-06</th>\n",
       "      <td>0.0</td>\n",
       "      <td>0.0</td>\n",
       "      <td>0.0</td>\n",
       "      <td>0.0</td>\n",
       "      <td>0.0</td>\n",
       "      <td>0.0</td>\n",
       "      <td>0.0</td>\n",
       "      <td>0.0</td>\n",
       "      <td>0.0</td>\n",
       "      <td>0.0</td>\n",
       "      <td>...</td>\n",
       "      <td>0.0</td>\n",
       "      <td>0.0</td>\n",
       "      <td>0.0</td>\n",
       "      <td>0.0</td>\n",
       "      <td>0.0</td>\n",
       "      <td>0.0</td>\n",
       "      <td>0.0</td>\n",
       "      <td>0.0</td>\n",
       "      <td>0.0</td>\n",
       "      <td>0.0</td>\n",
       "    </tr>\n",
       "    <tr>\n",
       "      <th>2023-09-07</th>\n",
       "      <td>2.0</td>\n",
       "      <td>2.0</td>\n",
       "      <td>2.0</td>\n",
       "      <td>2.0</td>\n",
       "      <td>2.0</td>\n",
       "      <td>2.0</td>\n",
       "      <td>2.0</td>\n",
       "      <td>2.0</td>\n",
       "      <td>2.0</td>\n",
       "      <td>2.0</td>\n",
       "      <td>...</td>\n",
       "      <td>2.0</td>\n",
       "      <td>2.0</td>\n",
       "      <td>2.0</td>\n",
       "      <td>2.0</td>\n",
       "      <td>2.0</td>\n",
       "      <td>2.0</td>\n",
       "      <td>2.0</td>\n",
       "      <td>2.0</td>\n",
       "      <td>2.0</td>\n",
       "      <td>2.0</td>\n",
       "    </tr>\n",
       "    <tr>\n",
       "      <th>2023-09-08</th>\n",
       "      <td>1.0</td>\n",
       "      <td>2.0</td>\n",
       "      <td>2.0</td>\n",
       "      <td>2.0</td>\n",
       "      <td>2.0</td>\n",
       "      <td>1.0</td>\n",
       "      <td>1.0</td>\n",
       "      <td>0.0</td>\n",
       "      <td>2.0</td>\n",
       "      <td>1.0</td>\n",
       "      <td>...</td>\n",
       "      <td>2.0</td>\n",
       "      <td>2.0</td>\n",
       "      <td>1.0</td>\n",
       "      <td>1.0</td>\n",
       "      <td>1.0</td>\n",
       "      <td>2.0</td>\n",
       "      <td>2.0</td>\n",
       "      <td>0.0</td>\n",
       "      <td>2.0</td>\n",
       "      <td>2.0</td>\n",
       "    </tr>\n",
       "    <tr>\n",
       "      <th>2023-09-09</th>\n",
       "      <td>1.0</td>\n",
       "      <td>1.0</td>\n",
       "      <td>0.0</td>\n",
       "      <td>1.0</td>\n",
       "      <td>2.0</td>\n",
       "      <td>0.0</td>\n",
       "      <td>1.0</td>\n",
       "      <td>0.0</td>\n",
       "      <td>1.0</td>\n",
       "      <td>0.0</td>\n",
       "      <td>...</td>\n",
       "      <td>2.0</td>\n",
       "      <td>1.0</td>\n",
       "      <td>0.0</td>\n",
       "      <td>0.0</td>\n",
       "      <td>1.0</td>\n",
       "      <td>2.0</td>\n",
       "      <td>1.0</td>\n",
       "      <td>0.0</td>\n",
       "      <td>2.0</td>\n",
       "      <td>2.0</td>\n",
       "    </tr>\n",
       "    <tr>\n",
       "      <th>2023-09-10</th>\n",
       "      <td>2.0</td>\n",
       "      <td>2.0</td>\n",
       "      <td>1.0</td>\n",
       "      <td>2.0</td>\n",
       "      <td>3.0</td>\n",
       "      <td>1.0</td>\n",
       "      <td>2.0</td>\n",
       "      <td>1.0</td>\n",
       "      <td>2.0</td>\n",
       "      <td>1.0</td>\n",
       "      <td>...</td>\n",
       "      <td>2.0</td>\n",
       "      <td>1.0</td>\n",
       "      <td>0.0</td>\n",
       "      <td>0.0</td>\n",
       "      <td>1.0</td>\n",
       "      <td>2.0</td>\n",
       "      <td>1.0</td>\n",
       "      <td>0.0</td>\n",
       "      <td>2.0</td>\n",
       "      <td>2.0</td>\n",
       "    </tr>\n",
       "  </tbody>\n",
       "</table>\n",
       "<p>10 rows × 88 columns</p>\n",
       "</div>"
      ],
      "text/plain": [
       "            B124  B238  B319  B420  B534  B536  T101  T102  T103  T105  ...  \\\n",
       "2023-09-01   0.0   0.0   0.0   0.0   0.0   0.0   0.0   0.0   0.0   0.0  ...   \n",
       "2023-09-02   0.0   0.0   0.0   0.0   0.0   0.0   0.0   0.0   0.0   0.0  ...   \n",
       "2023-09-03   0.0   0.0   0.0   0.0   0.0   0.0   0.0   0.0   0.0   0.0  ...   \n",
       "2023-09-04   0.0   0.0   0.0   0.0   0.0   0.0   0.0   0.0   0.0   0.0  ...   \n",
       "2023-09-05   0.0   0.0   0.0   0.0   0.0   0.0   0.0   0.0   0.0   0.0  ...   \n",
       "2023-09-06   0.0   0.0   0.0   0.0   0.0   0.0   0.0   0.0   0.0   0.0  ...   \n",
       "2023-09-07   2.0   2.0   2.0   2.0   2.0   2.0   2.0   2.0   2.0   2.0  ...   \n",
       "2023-09-08   1.0   2.0   2.0   2.0   2.0   1.0   1.0   0.0   2.0   1.0  ...   \n",
       "2023-09-09   1.0   1.0   0.0   1.0   2.0   0.0   1.0   0.0   1.0   0.0  ...   \n",
       "2023-09-10   2.0   2.0   1.0   2.0   3.0   1.0   2.0   1.0   2.0   1.0  ...   \n",
       "\n",
       "            T754  T760  T772  T780  T782  T790  T791  T792  T794  T942  \n",
       "2023-09-01   0.0   0.0   0.0   0.0   0.0   0.0   0.0   0.0   0.0   0.0  \n",
       "2023-09-02   0.0   0.0   0.0   0.0   0.0   0.0   0.0   0.0   0.0   0.0  \n",
       "2023-09-03   0.0   0.0   0.0   0.0   0.0   0.0   0.0   0.0   0.0   0.0  \n",
       "2023-09-04   0.0   0.0   0.0   0.0   0.0   0.0   0.0   0.0   0.0   0.0  \n",
       "2023-09-05   0.0   0.0   0.0   0.0   0.0   0.0   0.0   0.0   0.0   0.0  \n",
       "2023-09-06   0.0   0.0   0.0   0.0   0.0   0.0   0.0   0.0   0.0   0.0  \n",
       "2023-09-07   2.0   2.0   2.0   2.0   2.0   2.0   2.0   2.0   2.0   2.0  \n",
       "2023-09-08   2.0   2.0   1.0   1.0   1.0   2.0   2.0   0.0   2.0   2.0  \n",
       "2023-09-09   2.0   1.0   0.0   0.0   1.0   2.0   1.0   0.0   2.0   2.0  \n",
       "2023-09-10   2.0   1.0   0.0   0.0   1.0   2.0   1.0   0.0   2.0   2.0  \n",
       "\n",
       "[10 rows x 88 columns]"
      ]
     },
     "execution_count": 37,
     "metadata": {},
     "output_type": "execute_result"
    }
   ],
   "source": [
    "mpenv.read.inv"
   ]
  },
  {
   "cell_type": "code",
   "execution_count": 38,
   "id": "cbbaccd9-6ac0-4237-97bb-91f5d605cd69",
   "metadata": {},
   "outputs": [
    {
     "data": {
      "text/plain": [
       "Timestamp('2023-09-10 00:00:00')"
      ]
     },
     "execution_count": 38,
     "metadata": {},
     "output_type": "execute_result"
    }
   ],
   "source": [
    "mpenv.read.index"
   ]
  },
  {
   "cell_type": "markdown",
   "id": "31e95f17-872c-4cd3-ab73-7013f39da7a2",
   "metadata": {},
   "source": [
    "## Dummy Policy"
   ]
  },
  {
   "cell_type": "code",
   "execution_count": 39,
   "id": "898174f9",
   "metadata": {},
   "outputs": [],
   "source": [
    "# Orders up to level 1 when stock reaches 0\n",
    "def dummy_policy(env, level):\n",
    "    action = env.read.inv.loc[env.index].eq(0).astype(int).values * level\n",
    "    return action"
   ]
  },
  {
   "cell_type": "code",
   "execution_count": 40,
   "id": "530d6b0c",
   "metadata": {},
   "outputs": [
    {
     "data": {
      "text/plain": [
       "-234537"
      ]
     },
     "execution_count": 40,
     "metadata": {},
     "output_type": "execute_result"
    }
   ],
   "source": [
    "int(run_policied_env(mpenv, policy=dummy_policy, params=1, render=False))"
   ]
  },
  {
   "cell_type": "markdown",
   "id": "08bc72b5",
   "metadata": {},
   "source": [
    "> __Tip__: you can use `render=True` to plot the evolution 'live'. It'll take way more time though."
   ]
  },
  {
   "cell_type": "markdown",
   "id": "76b5cc83",
   "metadata": {},
   "source": [
    "Let's try it for a couple of level values."
   ]
  },
  {
   "cell_type": "code",
   "execution_count": 41,
   "id": "5abe54a1",
   "metadata": {},
   "outputs": [],
   "source": [
    "results = [int(run_policied_env(mpenv, policy=dummy_policy, params=i, render=False)) for i in range(5)]"
   ]
  },
  {
   "cell_type": "code",
   "execution_count": 42,
   "id": "6d7e3a24",
   "metadata": {},
   "outputs": [
    {
     "name": "stdout",
     "output_type": "stream",
     "text": [
      "-226856\n"
     ]
    },
    {
     "data": {
      "text/plain": [
       "[<matplotlib.lines.Line2D at 0x7f1dd5263710>]"
      ]
     },
     "execution_count": 42,
     "metadata": {},
     "output_type": "execute_result"
    },
    {
     "data": {
      "image/png": "[encoded data removed]",
      "text/plain": [
       "<Figure size 432x288 with 1 Axes>"
      ]
     },
     "metadata": {
      "needs_background": "light"
     },
     "output_type": "display_data"
    }
   ],
   "source": [
    "print(max(results))\n",
    "plt.scatter(np.argmax(results), max(results))\n",
    "plt.plot(results)"
   ]
  },
  {
   "cell_type": "markdown",
   "id": "ee6c3639",
   "metadata": {},
   "source": [
    "> There seems to be a trade-off... with an optimum at 2 units. The policy is still very reactive, let's try and make it a bit more anticipatory."
   ]
  },
  {
   "cell_type": "markdown",
   "id": "4ed2681e-98c5-4a65-96d3-2640d9b66350",
   "metadata": {},
   "source": [
    "## Imporved Dummy Policy for Benchmark"
   ]
  },
  {
   "cell_type": "code",
   "execution_count": 43,
   "id": "436f16da",
   "metadata": {},
   "outputs": [],
   "source": [
    "## Dummy policy ordering up to various levels (to be optimised) when stock is less than or equal to 1\n",
    "def dummy_policy(env, level):\n",
    "    action = env.read.inv.loc[env.index].le(1).astype(int).values * level\n",
    "    return action"
   ]
  },
  {
   "cell_type": "code",
   "execution_count": 44,
   "id": "746c166e",
   "metadata": {},
   "outputs": [],
   "source": [
    "results = [int(run_policied_env(mpenv, policy=dummy_policy, params=i, render=False)) for i in range(5)]"
   ]
  },
  {
   "cell_type": "code",
   "execution_count": 45,
   "id": "2e5f3df2",
   "metadata": {},
   "outputs": [
    {
     "name": "stdout",
     "output_type": "stream",
     "text": [
      "-197517\n"
     ]
    },
    {
     "data": {
      "text/plain": [
       "[<matplotlib.lines.Line2D at 0x7f1dd49c95d0>]"
      ]
     },
     "execution_count": 45,
     "metadata": {},
     "output_type": "execute_result"
    },
    {
     "data": {
      "image/png": "[encoded data removed]",
      "text/plain": [
       "<Figure size 432x288 with 1 Axes>"
      ]
     },
     "metadata": {
      "needs_background": "light"
     },
     "output_type": "display_data"
    }
   ],
   "source": [
    "print(max(results))\n",
    "plt.scatter(np.argmax(results), max(results))\n",
    "plt.plot(results) "
   ]
  },
  {
   "cell_type": "markdown",
   "id": "15d2e924",
   "metadata": {},
   "source": [
    "> The result improved, but in proactive mode resupplying 2 units by default seem to be too much already."
   ]
  },
  {
   "cell_type": "markdown",
   "id": "59b69705-50ca-49ec-869b-1532ed1cc09c",
   "metadata": {},
   "source": [
    "## Demand anticipating policy"
   ]
  },
  {
   "cell_type": "code",
   "execution_count": null,
   "id": "26eaf794-e5b5-422c-9477-59e475f0071a",
   "metadata": {},
   "outputs": [],
   "source": [
    "# we use the iphone 14 to compare with benchmark"
   ]
  },
  {
   "cell_type": "code",
   "execution_count": 47,
   "id": "219c5f0d-4310-45d7-8bc9-989808d3251d",
   "metadata": {},
   "outputs": [],
   "source": [
    "df_index = df.reset_index()"
   ]
  },
  {
   "cell_type": "code",
   "execution_count": 48,
   "id": "6109ba9f-6d36-44a3-8b32-65135f75d55c",
   "metadata": {},
   "outputs": [],
   "source": [
    "#define a function to retrieve the forecast of a material at a plant on a certain day\n",
    "def get_daily_forecast(material, plant, date):\n",
    "    try:\n",
    "        # Attempt to get the 'Daily_forecast' value\n",
    "        forecast = df_index[(df_index['Material'] == material) & (df_index['Plant'] == plant) & (df_index['Date'] == date)]['Daily_forecast'].iloc[0]\n",
    "        return forecast\n",
    "    except (IndexError, KeyError):\n",
    "        # If an error occurs, return 0\n",
    "        return 0"
   ]
  },
  {
   "cell_type": "code",
   "execution_count": 49,
   "id": "e3ea5204-f602-4a5f-8daa-280d321e91d2",
   "metadata": {},
   "outputs": [],
   "source": [
    "import datetime\n",
    "def forecast_policy(env, level):\n",
    "    material = 64640153 #We use the iPhone 14 so that we can compare to benchmark\n",
    "    # create empty lists to store our values and do calculations\n",
    "    forecast = []\n",
    "    forecast_next_day = []\n",
    "    forecast_next_day2 = []\n",
    "    forecast_next_day3 = []\n",
    "    inventory = []\n",
    "    # retrieve all the dates needed to retrieve data from our previously defined function\n",
    "    date = env.index\n",
    "    next_day = env.index+timedelta(days=1) \n",
    "    next_day2 = env.index+timedelta(days=2) \n",
    "    next_day3 = env.index+timedelta(days=3)\n",
    "    \n",
    "    # Populate forecast arrays with the values from the dataframe for each plant\n",
    "    for plant in mpenv.plants:\n",
    "            daily_forecast = get_daily_forecast(material, plant, date)\n",
    "            forecast.append(daily_forecast)\n",
    "            daily_forecast = get_daily_forecast(material, plant, next_day)\n",
    "            forecast_next_day.append(daily_forecast)\n",
    "            daily_forecast = get_daily_forecast(material, plant, next_day2)\n",
    "            forecast_next_day2.append(daily_forecast)\n",
    "            daily_forecast = get_daily_forecast(material, plant, next_day3)\n",
    "            forecast_next_day3.append(daily_forecast)\n",
    "    \n",
    "    inv = list(env.inv.values())[-1]\n",
    "    forecast_array = np.array(forecast)\n",
    "\n",
    "    #include boundry conditions (when we start the simulation) to retrieve order array\n",
    "    if date == datetime.datetime(2023, 9, 1, 0, 0, 0) or date == datetime.datetime(2023, 9, 2, 0, 0, 0):\n",
    "        ordr = [0] * 88\n",
    "    else: \n",
    "        ordr = list(env.ordr.values())[-1]\n",
    "    \n",
    "    inv0 = inv-forecast #Calculate expected inventory at end of the day\n",
    "    inv0[inv0 < 0] = 0 #make sure there are no negative inventory values\n",
    "\n",
    "    #include boundry conditions (when we start the simulation) to retrieve previous day order array\n",
    "    if date == datetime.datetime(2023, 9, 1, 0, 0, 0) or date == datetime.datetime(2023, 9, 2, 0, 0, 0):\n",
    "        ordr_previous_day = 0\n",
    "    else:\n",
    "        previous_day = env.index+timedelta(days=-1)\n",
    "        ordr_previous_day = list(env.ordr.values())[-2]\n",
    "        \n",
    "    #Calculate expected inventories at end of the each day during the lead time\n",
    "    inv1 = inv0-forecast_next_day + ordr_previous_day\n",
    "    inv1[inv1 < 0] = 0 #again making sure non-negative inventory values exist\n",
    "    inv2 = inv1-forecast_next_day2 + ordr\n",
    "    inv2[inv2 < 0] = 0\n",
    "    inv3 = inv2-forecast_next_day3\n",
    "\n",
    "    # we set a safety stock level that we aim to meet given expected inventory on the day our order will arrive\n",
    "    treshold = level\n",
    "    print(date)\n",
    "\n",
    "    #set the action to order so that it meets the safety stock level on the day the order arrives\n",
    "    action = treshold-inv3\n",
    "    action[action < 0] = 0\n",
    "    action = np.round(action) #actions must be integers\n",
    "    \n",
    "    return action"
   ]
  },
  {
   "cell_type": "code",
   "execution_count": 50,
   "id": "a4ab4863-0b97-4f5d-9261-015facafb5f8",
   "metadata": {},
   "outputs": [
    {
     "name": "stdout",
     "output_type": "stream",
     "text": [
      "2023-09-01 00:00:00\n",
      "2023-09-02 00:00:00\n",
      "2023-09-03 00:00:00\n",
      "2023-09-04 00:00:00\n",
      "2023-09-05 00:00:00\n",
      "2023-09-06 00:00:00\n",
      "2023-09-07 00:00:00\n",
      "2023-09-08 00:00:00\n",
      "2023-09-09 00:00:00\n",
      "2023-09-10 00:00:00\n",
      "2023-09-11 00:00:00\n",
      "2023-09-12 00:00:00\n",
      "2023-09-13 00:00:00\n",
      "2023-09-14 00:00:00\n",
      "2023-09-15 00:00:00\n",
      "2023-09-16 00:00:00\n",
      "2023-09-17 00:00:00\n",
      "2023-09-18 00:00:00\n",
      "2023-09-19 00:00:00\n",
      "2023-09-20 00:00:00\n",
      "2023-09-21 00:00:00\n",
      "2023-09-22 00:00:00\n",
      "2023-09-23 00:00:00\n",
      "2023-09-24 00:00:00\n",
      "2023-09-25 00:00:00\n",
      "2023-09-26 00:00:00\n",
      "2023-09-27 00:00:00\n",
      "2023-09-28 00:00:00\n",
      "2023-09-29 00:00:00\n",
      "2023-09-30 00:00:00\n",
      "2023-10-01 00:00:00\n",
      "2023-10-02 00:00:00\n",
      "2023-10-03 00:00:00\n",
      "2023-10-04 00:00:00\n",
      "2023-10-05 00:00:00\n",
      "2023-10-06 00:00:00\n",
      "2023-10-07 00:00:00\n",
      "2023-10-08 00:00:00\n",
      "2023-10-09 00:00:00\n",
      "2023-10-10 00:00:00\n",
      "2023-10-11 00:00:00\n",
      "2023-10-12 00:00:00\n",
      "2023-10-13 00:00:00\n",
      "2023-10-14 00:00:00\n",
      "2023-10-15 00:00:00\n",
      "2023-10-16 00:00:00\n",
      "2023-10-17 00:00:00\n",
      "2023-10-18 00:00:00\n",
      "2023-10-19 00:00:00\n",
      "2023-10-20 00:00:00\n",
      "2023-10-21 00:00:00\n",
      "2023-10-22 00:00:00\n",
      "2023-10-23 00:00:00\n",
      "2023-10-24 00:00:00\n",
      "2023-10-25 00:00:00\n",
      "2023-10-26 00:00:00\n",
      "2023-10-27 00:00:00\n",
      "2023-10-28 00:00:00\n",
      "2023-10-29 00:00:00\n",
      "2023-10-30 00:00:00\n",
      "2023-10-31 00:00:00\n",
      "2023-11-01 00:00:00\n",
      "2023-11-02 00:00:00\n",
      "2023-11-03 00:00:00\n",
      "2023-11-04 00:00:00\n",
      "2023-11-05 00:00:00\n",
      "2023-11-06 00:00:00\n",
      "2023-11-07 00:00:00\n",
      "2023-11-08 00:00:00\n",
      "2023-11-09 00:00:00\n",
      "2023-11-10 00:00:00\n",
      "2023-11-11 00:00:00\n",
      "2023-11-12 00:00:00\n",
      "2023-11-13 00:00:00\n",
      "2023-11-14 00:00:00\n",
      "2023-11-15 00:00:00\n",
      "2023-11-16 00:00:00\n",
      "2023-11-17 00:00:00\n",
      "2023-11-18 00:00:00\n",
      "2023-11-19 00:00:00\n",
      "2023-11-20 00:00:00\n",
      "2023-11-21 00:00:00\n",
      "2023-11-22 00:00:00\n",
      "2023-11-23 00:00:00\n",
      "2023-11-24 00:00:00\n",
      "2023-11-25 00:00:00\n",
      "2023-11-26 00:00:00\n",
      "2023-11-27 00:00:00\n",
      "2023-11-28 00:00:00\n",
      "2023-11-29 00:00:00\n",
      "2023-11-30 00:00:00\n",
      "2023-12-01 00:00:00\n",
      "2023-12-02 00:00:00\n",
      "2023-12-03 00:00:00\n",
      "2023-12-04 00:00:00\n",
      "2023-12-05 00:00:00\n",
      "2023-12-06 00:00:00\n",
      "2023-12-07 00:00:00\n",
      "2023-12-08 00:00:00\n",
      "2023-12-09 00:00:00\n",
      "2023-12-10 00:00:00\n",
      "2023-12-11 00:00:00\n",
      "2023-12-12 00:00:00\n",
      "2023-12-13 00:00:00\n",
      "2023-12-14 00:00:00\n",
      "2023-12-15 00:00:00\n",
      "2023-12-16 00:00:00\n",
      "2023-12-17 00:00:00\n",
      "2023-12-18 00:00:00\n",
      "2023-12-19 00:00:00\n",
      "2023-12-20 00:00:00\n",
      "2023-12-21 00:00:00\n",
      "2023-12-22 00:00:00\n",
      "2023-12-23 00:00:00\n",
      "2023-12-24 00:00:00\n",
      "2023-12-25 00:00:00\n",
      "2023-12-26 00:00:00\n",
      "2023-12-27 00:00:00\n",
      "2023-12-28 00:00:00\n",
      "2023-12-29 00:00:00\n",
      "2023-12-30 00:00:00\n",
      "2023-12-31 00:00:00\n",
      "2024-01-01 00:00:00\n",
      "2024-01-02 00:00:00\n",
      "2024-01-03 00:00:00\n",
      "2024-01-04 00:00:00\n",
      "2024-01-05 00:00:00\n",
      "2024-01-06 00:00:00\n",
      "2024-01-07 00:00:00\n",
      "2024-01-08 00:00:00\n",
      "2024-01-09 00:00:00\n",
      "2024-01-10 00:00:00\n",
      "2024-01-11 00:00:00\n",
      "2024-01-12 00:00:00\n",
      "2024-01-13 00:00:00\n",
      "2024-01-14 00:00:00\n",
      "2024-01-15 00:00:00\n",
      "2024-01-16 00:00:00\n",
      "2024-01-17 00:00:00\n",
      "2024-01-18 00:00:00\n",
      "2024-01-19 00:00:00\n",
      "2024-01-20 00:00:00\n",
      "2024-01-21 00:00:00\n",
      "2024-01-22 00:00:00\n",
      "2024-01-23 00:00:00\n",
      "2024-01-24 00:00:00\n",
      "2024-01-25 00:00:00\n",
      "2024-01-26 00:00:00\n",
      "2024-01-27 00:00:00\n",
      "2024-01-28 00:00:00\n",
      "2024-01-29 00:00:00\n",
      "2024-01-30 00:00:00\n",
      "2024-01-31 00:00:00\n",
      "2024-02-01 00:00:00\n",
      "2024-02-02 00:00:00\n",
      "2024-02-03 00:00:00\n",
      "2024-02-04 00:00:00\n",
      "2024-02-05 00:00:00\n",
      "2024-02-06 00:00:00\n",
      "2024-02-07 00:00:00\n",
      "2024-02-08 00:00:00\n",
      "2024-02-09 00:00:00\n",
      "2024-02-10 00:00:00\n",
      "2024-02-11 00:00:00\n",
      "2024-02-12 00:00:00\n",
      "2024-02-13 00:00:00\n",
      "2024-02-14 00:00:00\n",
      "2024-02-15 00:00:00\n",
      "2024-02-16 00:00:00\n",
      "2024-02-17 00:00:00\n",
      "2024-02-18 00:00:00\n",
      "2024-02-19 00:00:00\n",
      "2024-02-20 00:00:00\n",
      "2024-02-21 00:00:00\n",
      "2024-02-22 00:00:00\n",
      "2024-02-23 00:00:00\n",
      "2024-02-24 00:00:00\n",
      "2024-02-25 00:00:00\n",
      "2024-02-26 00:00:00\n",
      "2024-02-27 00:00:00\n",
      "2024-02-28 00:00:00\n",
      "2024-02-29 00:00:00\n",
      "2024-03-01 00:00:00\n",
      "2024-03-02 00:00:00\n",
      "2024-03-03 00:00:00\n",
      "2024-03-04 00:00:00\n",
      "2024-03-05 00:00:00\n",
      "2024-03-06 00:00:00\n",
      "2024-03-07 00:00:00\n",
      "2024-03-08 00:00:00\n",
      "2024-03-09 00:00:00\n",
      "2024-03-10 00:00:00\n",
      "2024-03-11 00:00:00\n",
      "2024-03-12 00:00:00\n",
      "2024-03-13 00:00:00\n",
      "2024-03-14 00:00:00\n",
      "2024-03-15 00:00:00\n",
      "2024-03-16 00:00:00\n",
      "2024-03-17 00:00:00\n",
      "2024-03-18 00:00:00\n",
      "2024-03-19 00:00:00\n",
      "2024-03-20 00:00:00\n",
      "2024-03-21 00:00:00\n",
      "2024-03-22 00:00:00\n",
      "2024-03-23 00:00:00\n",
      "2024-03-24 00:00:00\n",
      "2024-03-25 00:00:00\n",
      "2024-03-26 00:00:00\n",
      "2024-03-27 00:00:00\n",
      "2024-03-28 00:00:00\n",
      "2023-09-01 00:00:00\n",
      "2023-09-02 00:00:00\n",
      "2023-09-03 00:00:00\n",
      "2023-09-04 00:00:00\n",
      "2023-09-05 00:00:00\n",
      "2023-09-06 00:00:00\n",
      "2023-09-07 00:00:00\n",
      "2023-09-08 00:00:00\n",
      "2023-09-09 00:00:00\n",
      "2023-09-10 00:00:00\n",
      "2023-09-11 00:00:00\n",
      "2023-09-12 00:00:00\n",
      "2023-09-13 00:00:00\n",
      "2023-09-14 00:00:00\n",
      "2023-09-15 00:00:00\n",
      "2023-09-16 00:00:00\n",
      "2023-09-17 00:00:00\n",
      "2023-09-18 00:00:00\n",
      "2023-09-19 00:00:00\n",
      "2023-09-20 00:00:00\n",
      "2023-09-21 00:00:00\n",
      "2023-09-22 00:00:00\n",
      "2023-09-23 00:00:00\n",
      "2023-09-24 00:00:00\n",
      "2023-09-25 00:00:00\n",
      "2023-09-26 00:00:00\n",
      "2023-09-27 00:00:00\n",
      "2023-09-28 00:00:00\n",
      "2023-09-29 00:00:00\n",
      "2023-09-30 00:00:00\n",
      "2023-10-01 00:00:00\n",
      "2023-10-02 00:00:00\n",
      "2023-10-03 00:00:00\n",
      "2023-10-04 00:00:00\n",
      "2023-10-05 00:00:00\n",
      "2023-10-06 00:00:00\n",
      "2023-10-07 00:00:00\n",
      "2023-10-08 00:00:00\n",
      "2023-10-09 00:00:00\n",
      "2023-10-10 00:00:00\n",
      "2023-10-11 00:00:00\n",
      "2023-10-12 00:00:00\n",
      "2023-10-13 00:00:00\n",
      "2023-10-14 00:00:00\n",
      "2023-10-15 00:00:00\n",
      "2023-10-16 00:00:00\n",
      "2023-10-17 00:00:00\n",
      "2023-10-18 00:00:00\n",
      "2023-10-19 00:00:00\n",
      "2023-10-20 00:00:00\n",
      "2023-10-21 00:00:00\n",
      "2023-10-22 00:00:00\n",
      "2023-10-23 00:00:00\n",
      "2023-10-24 00:00:00\n",
      "2023-10-25 00:00:00\n",
      "2023-10-26 00:00:00\n",
      "2023-10-27 00:00:00\n",
      "2023-10-28 00:00:00\n",
      "2023-10-29 00:00:00\n",
      "2023-10-30 00:00:00\n",
      "2023-10-31 00:00:00\n",
      "2023-11-01 00:00:00\n",
      "2023-11-02 00:00:00\n",
      "2023-11-03 00:00:00\n",
      "2023-11-04 00:00:00\n",
      "2023-11-05 00:00:00\n",
      "2023-11-06 00:00:00\n",
      "2023-11-07 00:00:00\n",
      "2023-11-08 00:00:00\n",
      "2023-11-09 00:00:00\n",
      "2023-11-10 00:00:00\n",
      "2023-11-11 00:00:00\n",
      "2023-11-12 00:00:00\n",
      "2023-11-13 00:00:00\n",
      "2023-11-14 00:00:00\n",
      "2023-11-15 00:00:00\n",
      "2023-11-16 00:00:00\n",
      "2023-11-17 00:00:00\n",
      "2023-11-18 00:00:00\n",
      "2023-11-19 00:00:00\n",
      "2023-11-20 00:00:00\n",
      "2023-11-21 00:00:00\n",
      "2023-11-22 00:00:00\n",
      "2023-11-23 00:00:00\n",
      "2023-11-24 00:00:00\n",
      "2023-11-25 00:00:00\n",
      "2023-11-26 00:00:00\n",
      "2023-11-27 00:00:00\n",
      "2023-11-28 00:00:00\n",
      "2023-11-29 00:00:00\n",
      "2023-11-30 00:00:00\n",
      "2023-12-01 00:00:00\n",
      "2023-12-02 00:00:00\n",
      "2023-12-03 00:00:00\n",
      "2023-12-04 00:00:00\n",
      "2023-12-05 00:00:00\n",
      "2023-12-06 00:00:00\n",
      "2023-12-07 00:00:00\n",
      "2023-12-08 00:00:00\n",
      "2023-12-09 00:00:00\n",
      "2023-12-10 00:00:00\n",
      "2023-12-11 00:00:00\n",
      "2023-12-12 00:00:00\n",
      "2023-12-13 00:00:00\n",
      "2023-12-14 00:00:00\n",
      "2023-12-15 00:00:00\n",
      "2023-12-16 00:00:00\n",
      "2023-12-17 00:00:00\n",
      "2023-12-18 00:00:00\n",
      "2023-12-19 00:00:00\n",
      "2023-12-20 00:00:00\n",
      "2023-12-21 00:00:00\n",
      "2023-12-22 00:00:00\n",
      "2023-12-23 00:00:00\n",
      "2023-12-24 00:00:00\n",
      "2023-12-25 00:00:00\n",
      "2023-12-26 00:00:00\n",
      "2023-12-27 00:00:00\n",
      "2023-12-28 00:00:00\n",
      "2023-12-29 00:00:00\n",
      "2023-12-30 00:00:00\n",
      "2023-12-31 00:00:00\n",
      "2024-01-01 00:00:00\n",
      "2024-01-02 00:00:00\n",
      "2024-01-03 00:00:00\n",
      "2024-01-04 00:00:00\n",
      "2024-01-05 00:00:00\n",
      "2024-01-06 00:00:00\n",
      "2024-01-07 00:00:00\n",
      "2024-01-08 00:00:00\n",
      "2024-01-09 00:00:00\n",
      "2024-01-10 00:00:00\n",
      "2024-01-11 00:00:00\n",
      "2024-01-12 00:00:00\n",
      "2024-01-13 00:00:00\n",
      "2024-01-14 00:00:00\n",
      "2024-01-15 00:00:00\n",
      "2024-01-16 00:00:00\n",
      "2024-01-17 00:00:00\n",
      "2024-01-18 00:00:00\n",
      "2024-01-19 00:00:00\n",
      "2024-01-20 00:00:00\n",
      "2024-01-21 00:00:00\n",
      "2024-01-22 00:00:00\n",
      "2024-01-23 00:00:00\n",
      "2024-01-24 00:00:00\n",
      "2024-01-25 00:00:00\n",
      "2024-01-26 00:00:00\n",
      "2024-01-27 00:00:00\n",
      "2024-01-28 00:00:00\n",
      "2024-01-29 00:00:00\n",
      "2024-01-30 00:00:00\n",
      "2024-01-31 00:00:00\n",
      "2024-02-01 00:00:00\n",
      "2024-02-02 00:00:00\n",
      "2024-02-03 00:00:00\n",
      "2024-02-04 00:00:00\n",
      "2024-02-05 00:00:00\n",
      "2024-02-06 00:00:00\n",
      "2024-02-07 00:00:00\n",
      "2024-02-08 00:00:00\n",
      "2024-02-09 00:00:00\n",
      "2024-02-10 00:00:00\n",
      "2024-02-11 00:00:00\n",
      "2024-02-12 00:00:00\n",
      "2024-02-13 00:00:00\n",
      "2024-02-14 00:00:00\n",
      "2024-02-15 00:00:00\n",
      "2024-02-16 00:00:00\n",
      "2024-02-17 00:00:00\n",
      "2024-02-18 00:00:00\n",
      "2024-02-19 00:00:00\n",
      "2024-02-20 00:00:00\n",
      "2024-02-21 00:00:00\n",
      "2024-02-22 00:00:00\n",
      "2024-02-23 00:00:00\n",
      "2024-02-24 00:00:00\n",
      "2024-02-25 00:00:00\n",
      "2024-02-26 00:00:00\n",
      "2024-02-27 00:00:00\n",
      "2024-02-28 00:00:00\n",
      "2024-02-29 00:00:00\n",
      "2024-03-01 00:00:00\n",
      "2024-03-02 00:00:00\n",
      "2024-03-03 00:00:00\n",
      "2024-03-04 00:00:00\n",
      "2024-03-05 00:00:00\n",
      "2024-03-06 00:00:00\n",
      "2024-03-07 00:00:00\n",
      "2024-03-08 00:00:00\n",
      "2024-03-09 00:00:00\n",
      "2024-03-10 00:00:00\n",
      "2024-03-11 00:00:00\n",
      "2024-03-12 00:00:00\n",
      "2024-03-13 00:00:00\n",
      "2024-03-14 00:00:00\n",
      "2024-03-15 00:00:00\n",
      "2024-03-16 00:00:00\n",
      "2024-03-17 00:00:00\n",
      "2024-03-18 00:00:00\n",
      "2024-03-19 00:00:00\n",
      "2024-03-20 00:00:00\n",
      "2024-03-21 00:00:00\n",
      "2024-03-22 00:00:00\n",
      "2024-03-23 00:00:00\n",
      "2024-03-24 00:00:00\n",
      "2024-03-25 00:00:00\n",
      "2024-03-26 00:00:00\n",
      "2024-03-27 00:00:00\n",
      "2024-03-28 00:00:00\n",
      "2023-09-01 00:00:00\n",
      "2023-09-02 00:00:00\n",
      "2023-09-03 00:00:00\n",
      "2023-09-04 00:00:00\n",
      "2023-09-05 00:00:00\n",
      "2023-09-06 00:00:00\n",
      "2023-09-07 00:00:00\n",
      "2023-09-08 00:00:00\n",
      "2023-09-09 00:00:00\n",
      "2023-09-10 00:00:00\n",
      "2023-09-11 00:00:00\n",
      "2023-09-12 00:00:00\n",
      "2023-09-13 00:00:00\n",
      "2023-09-14 00:00:00\n",
      "2023-09-15 00:00:00\n",
      "2023-09-16 00:00:00\n",
      "2023-09-17 00:00:00\n",
      "2023-09-18 00:00:00\n",
      "2023-09-19 00:00:00\n",
      "2023-09-20 00:00:00\n",
      "2023-09-21 00:00:00\n",
      "2023-09-22 00:00:00\n",
      "2023-09-23 00:00:00\n",
      "2023-09-24 00:00:00\n",
      "2023-09-25 00:00:00\n",
      "2023-09-26 00:00:00\n",
      "2023-09-27 00:00:00\n",
      "2023-09-28 00:00:00\n",
      "2023-09-29 00:00:00\n",
      "2023-09-30 00:00:00\n",
      "2023-10-01 00:00:00\n",
      "2023-10-02 00:00:00\n",
      "2023-10-03 00:00:00\n",
      "2023-10-04 00:00:00\n",
      "2023-10-05 00:00:00\n",
      "2023-10-06 00:00:00\n",
      "2023-10-07 00:00:00\n",
      "2023-10-08 00:00:00\n",
      "2023-10-09 00:00:00\n",
      "2023-10-10 00:00:00\n",
      "2023-10-11 00:00:00\n",
      "2023-10-12 00:00:00\n",
      "2023-10-13 00:00:00\n",
      "2023-10-14 00:00:00\n",
      "2023-10-15 00:00:00\n",
      "2023-10-16 00:00:00\n",
      "2023-10-17 00:00:00\n",
      "2023-10-18 00:00:00\n",
      "2023-10-19 00:00:00\n",
      "2023-10-20 00:00:00\n",
      "2023-10-21 00:00:00\n",
      "2023-10-22 00:00:00\n",
      "2023-10-23 00:00:00\n",
      "2023-10-24 00:00:00\n",
      "2023-10-25 00:00:00\n",
      "2023-10-26 00:00:00\n",
      "2023-10-27 00:00:00\n",
      "2023-10-28 00:00:00\n",
      "2023-10-29 00:00:00\n",
      "2023-10-30 00:00:00\n",
      "2023-10-31 00:00:00\n",
      "2023-11-01 00:00:00\n",
      "2023-11-02 00:00:00\n",
      "2023-11-03 00:00:00\n",
      "2023-11-04 00:00:00\n",
      "2023-11-05 00:00:00\n",
      "2023-11-06 00:00:00\n",
      "2023-11-07 00:00:00\n",
      "2023-11-08 00:00:00\n",
      "2023-11-09 00:00:00\n",
      "2023-11-10 00:00:00\n",
      "2023-11-11 00:00:00\n",
      "2023-11-12 00:00:00\n",
      "2023-11-13 00:00:00\n",
      "2023-11-14 00:00:00\n",
      "2023-11-15 00:00:00\n",
      "2023-11-16 00:00:00\n",
      "2023-11-17 00:00:00\n",
      "2023-11-18 00:00:00\n",
      "2023-11-19 00:00:00\n",
      "2023-11-20 00:00:00\n",
      "2023-11-21 00:00:00\n",
      "2023-11-22 00:00:00\n",
      "2023-11-23 00:00:00\n",
      "2023-11-24 00:00:00\n",
      "2023-11-25 00:00:00\n",
      "2023-11-26 00:00:00\n",
      "2023-11-27 00:00:00\n",
      "2023-11-28 00:00:00\n",
      "2023-11-29 00:00:00\n",
      "2023-11-30 00:00:00\n",
      "2023-12-01 00:00:00\n",
      "2023-12-02 00:00:00\n",
      "2023-12-03 00:00:00\n",
      "2023-12-04 00:00:00\n",
      "2023-12-05 00:00:00\n",
      "2023-12-06 00:00:00\n",
      "2023-12-07 00:00:00\n",
      "2023-12-08 00:00:00\n",
      "2023-12-09 00:00:00\n",
      "2023-12-10 00:00:00\n",
      "2023-12-11 00:00:00\n",
      "2023-12-12 00:00:00\n",
      "2023-12-13 00:00:00\n",
      "2023-12-14 00:00:00\n",
      "2023-12-15 00:00:00\n",
      "2023-12-16 00:00:00\n",
      "2023-12-17 00:00:00\n",
      "2023-12-18 00:00:00\n",
      "2023-12-19 00:00:00\n",
      "2023-12-20 00:00:00\n",
      "2023-12-21 00:00:00\n",
      "2023-12-22 00:00:00\n",
      "2023-12-23 00:00:00\n",
      "2023-12-24 00:00:00\n",
      "2023-12-25 00:00:00\n",
      "2023-12-26 00:00:00\n",
      "2023-12-27 00:00:00\n",
      "2023-12-28 00:00:00\n",
      "2023-12-29 00:00:00\n",
      "2023-12-30 00:00:00\n",
      "2023-12-31 00:00:00\n",
      "2024-01-01 00:00:00\n",
      "2024-01-02 00:00:00\n",
      "2024-01-03 00:00:00\n",
      "2024-01-04 00:00:00\n",
      "2024-01-05 00:00:00\n",
      "2024-01-06 00:00:00\n",
      "2024-01-07 00:00:00\n",
      "2024-01-08 00:00:00\n",
      "2024-01-09 00:00:00\n",
      "2024-01-10 00:00:00\n",
      "2024-01-11 00:00:00\n",
      "2024-01-12 00:00:00\n",
      "2024-01-13 00:00:00\n",
      "2024-01-14 00:00:00\n",
      "2024-01-15 00:00:00\n",
      "2024-01-16 00:00:00\n",
      "2024-01-17 00:00:00\n",
      "2024-01-18 00:00:00\n",
      "2024-01-19 00:00:00\n",
      "2024-01-20 00:00:00\n",
      "2024-01-21 00:00:00\n",
      "2024-01-22 00:00:00\n",
      "2024-01-23 00:00:00\n",
      "2024-01-24 00:00:00\n",
      "2024-01-25 00:00:00\n",
      "2024-01-26 00:00:00\n",
      "2024-01-27 00:00:00\n",
      "2024-01-28 00:00:00\n",
      "2024-01-29 00:00:00\n",
      "2024-01-30 00:00:00\n",
      "2024-01-31 00:00:00\n",
      "2024-02-01 00:00:00\n",
      "2024-02-02 00:00:00\n",
      "2024-02-03 00:00:00\n",
      "2024-02-04 00:00:00\n",
      "2024-02-05 00:00:00\n",
      "2024-02-06 00:00:00\n",
      "2024-02-07 00:00:00\n",
      "2024-02-08 00:00:00\n",
      "2024-02-09 00:00:00\n",
      "2024-02-10 00:00:00\n",
      "2024-02-11 00:00:00\n",
      "2024-02-12 00:00:00\n",
      "2024-02-13 00:00:00\n",
      "2024-02-14 00:00:00\n",
      "2024-02-15 00:00:00\n",
      "2024-02-16 00:00:00\n",
      "2024-02-17 00:00:00\n",
      "2024-02-18 00:00:00\n",
      "2024-02-19 00:00:00\n",
      "2024-02-20 00:00:00\n",
      "2024-02-21 00:00:00\n",
      "2024-02-22 00:00:00\n",
      "2024-02-23 00:00:00\n",
      "2024-02-24 00:00:00\n",
      "2024-02-25 00:00:00\n",
      "2024-02-26 00:00:00\n",
      "2024-02-27 00:00:00\n",
      "2024-02-28 00:00:00\n",
      "2024-02-29 00:00:00\n",
      "2024-03-01 00:00:00\n",
      "2024-03-02 00:00:00\n",
      "2024-03-03 00:00:00\n",
      "2024-03-04 00:00:00\n",
      "2024-03-05 00:00:00\n",
      "2024-03-06 00:00:00\n",
      "2024-03-07 00:00:00\n",
      "2024-03-08 00:00:00\n",
      "2024-03-09 00:00:00\n",
      "2024-03-10 00:00:00\n",
      "2024-03-11 00:00:00\n",
      "2024-03-12 00:00:00\n",
      "2024-03-13 00:00:00\n",
      "2024-03-14 00:00:00\n",
      "2024-03-15 00:00:00\n",
      "2024-03-16 00:00:00\n",
      "2024-03-17 00:00:00\n",
      "2024-03-18 00:00:00\n",
      "2024-03-19 00:00:00\n",
      "2024-03-20 00:00:00\n",
      "2024-03-21 00:00:00\n",
      "2024-03-22 00:00:00\n",
      "2024-03-23 00:00:00\n",
      "2024-03-24 00:00:00\n",
      "2024-03-25 00:00:00\n",
      "2024-03-26 00:00:00\n",
      "2024-03-27 00:00:00\n",
      "2024-03-28 00:00:00\n"
     ]
    }
   ],
   "source": [
    "#We run our policy for different safety stock levels and see which level minimises cost\n",
    "results = [int(run_policied_env(mpenv, policy=forecast_policy, params=i, render=False)) for i in range(0,3)]"
   ]
  },
  {
   "cell_type": "code",
   "execution_count": 51,
   "id": "9eb36d83-ee46-44c2-b7ac-90dca1a71299",
   "metadata": {},
   "outputs": [
    {
     "name": "stdout",
     "output_type": "stream",
     "text": [
      "-178372\n"
     ]
    },
    {
     "data": {
      "text/plain": [
       "[<matplotlib.lines.Line2D at 0x7f1dd4a1db90>]"
      ]
     },
     "execution_count": 51,
     "metadata": {},
     "output_type": "execute_result"
    },
    {
     "data": {
      "image/png": "[encoded data removed]",
      "text/plain": [
       "<Figure size 432x288 with 1 Axes>"
      ]
     },
     "metadata": {
      "needs_background": "light"
     },
     "output_type": "display_data"
    }
   ],
   "source": [
    "print(max(results))\n",
    "plt.scatter(np.argmax(results), max(results))\n",
    "plt.plot(results) "
   ]
  },
  {
   "cell_type": "code",
   "execution_count": 52,
   "id": "78d34474-86a5-4c47-a2fa-d50390e6707b",
   "metadata": {},
   "outputs": [
    {
     "data": {
      "image/png": "[encoded data removed]",
      "text/plain": [
       "<Figure size 1224x504 with 1 Axes>"
      ]
     },
     "metadata": {
      "needs_background": "light"
     },
     "output_type": "display_data"
    }
   ],
   "source": [
    "#Overview across all shops\n",
    "mpenv.plot()"
   ]
  },
  {
   "cell_type": "code",
   "execution_count": 53,
   "id": "1970ee95-307c-406c-bbb2-5ae5b229c577",
   "metadata": {},
   "outputs": [
    {
     "data": {
      "text/plain": [
       "<matplotlib.legend.Legend at 0x7f1d3d4e78d0>"
      ]
     },
     "execution_count": 53,
     "metadata": {},
     "output_type": "execute_result"
    },
    {
     "data": {
      "image/png": "[encoded data removed]",
      "text/plain": [
       "<Figure size 1080x504 with 1 Axes>"
      ]
     },
     "metadata": {
      "needs_background": "light"
     },
     "output_type": "display_data"
    }
   ],
   "source": [
    "#for plant B319 we can check the behaviour of the policy\n",
    "fig, ax = plt.subplots(figsize=(15, 7))\n",
    "plant = mpenv.plants[2]\n",
    "mpenv.read.ordr.loc[:, plant].replace(0, np.nan).plot(style=\".\", label='Orders')\n",
    "mpenv.read.inv.loc[:, plant].plot(c='C0', label='Inventory')\n",
    "mpenv.read.demand_dist.loc[:mpenv.index, plant].plot(label='Demand')\n",
    "mpenv.read.sales.loc[:, plant].add(0.05).plot(c='C1', linestyle='--', label='Sales')\n",
    "mpenv.read.understock.loc[:, plant].add(0.1).plot(c='black', label='Understock')\n",
    "plt.legend()"
   ]
  },
  {
   "cell_type": "markdown",
   "id": "08dd7540-60a3-4715-ad25-90403080101a",
   "metadata": {},
   "source": [
    "## Including the improved forecast with Sarima and Bass diffusion"
   ]
  },
  {
   "cell_type": "code",
   "execution_count": 200,
   "id": "b835c06f-0a55-40f7-911f-f034bb8ad1d5",
   "metadata": {},
   "outputs": [
    {
     "name": "stdout",
     "output_type": "stream",
     "text": [
      "/home/jovyan/vlerick\n"
     ]
    }
   ],
   "source": [
    "!pwd"
   ]
  },
  {
   "cell_type": "code",
   "execution_count": 256,
   "id": "6d825e0e-005c-426c-8e6a-4ef757a0fad1",
   "metadata": {},
   "outputs": [
    {
     "data": {
      "text/html": [
       "<div>\n",
       "<style scoped>\n",
       "    .dataframe tbody tr th:only-of-type {\n",
       "        vertical-align: middle;\n",
       "    }\n",
       "\n",
       "    .dataframe tbody tr th {\n",
       "        vertical-align: top;\n",
       "    }\n",
       "\n",
       "    .dataframe thead th {\n",
       "        text-align: right;\n",
       "    }\n",
       "</style>\n",
       "<table border=\"1\" class=\"dataframe\">\n",
       "  <thead>\n",
       "    <tr style=\"text-align: right;\">\n",
       "      <th></th>\n",
       "      <th>Material</th>\n",
       "      <th>Plant</th>\n",
       "      <th>Date</th>\n",
       "      <th>Description</th>\n",
       "      <th>Type</th>\n",
       "      <th>Supply</th>\n",
       "      <th>Demand</th>\n",
       "      <th>Price</th>\n",
       "      <th>Status</th>\n",
       "      <th>Current_month_forecast</th>\n",
       "      <th>Daily_forecast</th>\n",
       "      <th>Hist_method</th>\n",
       "      <th>Hist_activity</th>\n",
       "      <th>Hist_shop_stock</th>\n",
       "      <th>Hist_supplier_stock</th>\n",
       "      <th>Hist_sales</th>\n",
       "      <th>Volume</th>\n",
       "      <th>Our Forecast</th>\n",
       "    </tr>\n",
       "  </thead>\n",
       "  <tbody>\n",
       "    <tr>\n",
       "      <th>0</th>\n",
       "      <td>64640153</td>\n",
       "      <td>B124</td>\n",
       "      <td>2023-09-01</td>\n",
       "      <td>iPhone 14 128GB Midnight</td>\n",
       "      <td>Mobile</td>\n",
       "      <td>196.0</td>\n",
       "      <td>0.0</td>\n",
       "      <td>1019.99</td>\n",
       "      <td>Maturity</td>\n",
       "      <td>600.0</td>\n",
       "      <td>0.36</td>\n",
       "      <td>AUTO</td>\n",
       "      <td>14.12</td>\n",
       "      <td>2.0</td>\n",
       "      <td>0.0</td>\n",
       "      <td>0</td>\n",
       "      <td>0.00</td>\n",
       "      <td>0.227484</td>\n",
       "    </tr>\n",
       "    <tr>\n",
       "      <th>1</th>\n",
       "      <td>64640153</td>\n",
       "      <td>B124</td>\n",
       "      <td>2023-09-02</td>\n",
       "      <td>iPhone 14 128GB Midnight</td>\n",
       "      <td>Mobile</td>\n",
       "      <td>0.0</td>\n",
       "      <td>0.0</td>\n",
       "      <td>1019.99</td>\n",
       "      <td>Maturity</td>\n",
       "      <td>600.0</td>\n",
       "      <td>0.36</td>\n",
       "      <td>AUTO</td>\n",
       "      <td>14.12</td>\n",
       "      <td>2.0</td>\n",
       "      <td>0.0</td>\n",
       "      <td>0</td>\n",
       "      <td>0.00</td>\n",
       "      <td>0.220632</td>\n",
       "    </tr>\n",
       "    <tr>\n",
       "      <th>2</th>\n",
       "      <td>64640153</td>\n",
       "      <td>B124</td>\n",
       "      <td>2023-09-03</td>\n",
       "      <td>iPhone 14 128GB Midnight</td>\n",
       "      <td>Mobile</td>\n",
       "      <td>0.0</td>\n",
       "      <td>0.0</td>\n",
       "      <td>1019.99</td>\n",
       "      <td>Maturity</td>\n",
       "      <td>600.0</td>\n",
       "      <td>0.36</td>\n",
       "      <td>AUTO</td>\n",
       "      <td>14.12</td>\n",
       "      <td>2.0</td>\n",
       "      <td>0.0</td>\n",
       "      <td>0</td>\n",
       "      <td>0.00</td>\n",
       "      <td>0.219510</td>\n",
       "    </tr>\n",
       "    <tr>\n",
       "      <th>3</th>\n",
       "      <td>64640153</td>\n",
       "      <td>B124</td>\n",
       "      <td>2023-09-04</td>\n",
       "      <td>iPhone 14 128GB Midnight</td>\n",
       "      <td>Mobile</td>\n",
       "      <td>241.0</td>\n",
       "      <td>1.0</td>\n",
       "      <td>1019.99</td>\n",
       "      <td>Maturity</td>\n",
       "      <td>600.0</td>\n",
       "      <td>0.33</td>\n",
       "      <td>AUTO</td>\n",
       "      <td>14.52</td>\n",
       "      <td>2.0</td>\n",
       "      <td>0.0</td>\n",
       "      <td>1</td>\n",
       "      <td>1019.99</td>\n",
       "      <td>0.207243</td>\n",
       "    </tr>\n",
       "    <tr>\n",
       "      <th>4</th>\n",
       "      <td>64640153</td>\n",
       "      <td>B124</td>\n",
       "      <td>2023-09-05</td>\n",
       "      <td>iPhone 14 128GB Midnight</td>\n",
       "      <td>Mobile</td>\n",
       "      <td>0.0</td>\n",
       "      <td>0.0</td>\n",
       "      <td>1019.99</td>\n",
       "      <td>Maturity</td>\n",
       "      <td>600.0</td>\n",
       "      <td>0.34</td>\n",
       "      <td>AUTO</td>\n",
       "      <td>13.64</td>\n",
       "      <td>3.0</td>\n",
       "      <td>0.0</td>\n",
       "      <td>0</td>\n",
       "      <td>0.00</td>\n",
       "      <td>0.246413</td>\n",
       "    </tr>\n",
       "    <tr>\n",
       "      <th>...</th>\n",
       "      <td>...</td>\n",
       "      <td>...</td>\n",
       "      <td>...</td>\n",
       "      <td>...</td>\n",
       "      <td>...</td>\n",
       "      <td>...</td>\n",
       "      <td>...</td>\n",
       "      <td>...</td>\n",
       "      <td>...</td>\n",
       "      <td>...</td>\n",
       "      <td>...</td>\n",
       "      <td>...</td>\n",
       "      <td>...</td>\n",
       "      <td>...</td>\n",
       "      <td>...</td>\n",
       "      <td>...</td>\n",
       "      <td>...</td>\n",
       "      <td>...</td>\n",
       "    </tr>\n",
       "    <tr>\n",
       "      <th>17677</th>\n",
       "      <td>64640153</td>\n",
       "      <td>T942</td>\n",
       "      <td>2024-03-25</td>\n",
       "      <td>iPhone 14 128GB Midnight</td>\n",
       "      <td>Mobile</td>\n",
       "      <td>0.0</td>\n",
       "      <td>0.0</td>\n",
       "      <td>819.99</td>\n",
       "      <td>Maturity</td>\n",
       "      <td>250.0</td>\n",
       "      <td>0.11</td>\n",
       "      <td>AUTO</td>\n",
       "      <td>15.84</td>\n",
       "      <td>2.0</td>\n",
       "      <td>381.0</td>\n",
       "      <td>0</td>\n",
       "      <td>0.00</td>\n",
       "      <td>0.015821</td>\n",
       "    </tr>\n",
       "    <tr>\n",
       "      <th>17678</th>\n",
       "      <td>64640153</td>\n",
       "      <td>T942</td>\n",
       "      <td>2024-03-26</td>\n",
       "      <td>iPhone 14 128GB Midnight</td>\n",
       "      <td>Mobile</td>\n",
       "      <td>0.0</td>\n",
       "      <td>0.0</td>\n",
       "      <td>819.99</td>\n",
       "      <td>Maturity</td>\n",
       "      <td>250.0</td>\n",
       "      <td>0.11</td>\n",
       "      <td>MANUAL</td>\n",
       "      <td>15.80</td>\n",
       "      <td>2.0</td>\n",
       "      <td>373.0</td>\n",
       "      <td>0</td>\n",
       "      <td>0.00</td>\n",
       "      <td>0.381283</td>\n",
       "    </tr>\n",
       "    <tr>\n",
       "      <th>17679</th>\n",
       "      <td>64640153</td>\n",
       "      <td>T942</td>\n",
       "      <td>2024-03-27</td>\n",
       "      <td>iPhone 14 128GB Midnight</td>\n",
       "      <td>Mobile</td>\n",
       "      <td>0.0</td>\n",
       "      <td>0.0</td>\n",
       "      <td>819.99</td>\n",
       "      <td>Maturity</td>\n",
       "      <td>250.0</td>\n",
       "      <td>0.11</td>\n",
       "      <td>MANUAL</td>\n",
       "      <td>15.19</td>\n",
       "      <td>4.0</td>\n",
       "      <td>366.0</td>\n",
       "      <td>0</td>\n",
       "      <td>0.00</td>\n",
       "      <td>0.300672</td>\n",
       "    </tr>\n",
       "    <tr>\n",
       "      <th>17680</th>\n",
       "      <td>64640153</td>\n",
       "      <td>T942</td>\n",
       "      <td>2024-03-28</td>\n",
       "      <td>iPhone 14 128GB Midnight</td>\n",
       "      <td>Mobile</td>\n",
       "      <td>0.0</td>\n",
       "      <td>0.0</td>\n",
       "      <td>819.99</td>\n",
       "      <td>Maturity</td>\n",
       "      <td>250.0</td>\n",
       "      <td>0.11</td>\n",
       "      <td>MANUAL</td>\n",
       "      <td>14.73</td>\n",
       "      <td>4.0</td>\n",
       "      <td>362.0</td>\n",
       "      <td>0</td>\n",
       "      <td>0.00</td>\n",
       "      <td>0.019388</td>\n",
       "    </tr>\n",
       "    <tr>\n",
       "      <th>17681</th>\n",
       "      <td>64640153</td>\n",
       "      <td>T942</td>\n",
       "      <td>2024-03-29</td>\n",
       "      <td>iPhone 14 128GB Midnight</td>\n",
       "      <td>Mobile</td>\n",
       "      <td>0.0</td>\n",
       "      <td>0.0</td>\n",
       "      <td>819.99</td>\n",
       "      <td>Maturity</td>\n",
       "      <td>250.0</td>\n",
       "      <td>0.11</td>\n",
       "      <td>MANUAL</td>\n",
       "      <td>14.58</td>\n",
       "      <td>4.0</td>\n",
       "      <td>359.0</td>\n",
       "      <td>0</td>\n",
       "      <td>0.00</td>\n",
       "      <td>0.152601</td>\n",
       "    </tr>\n",
       "  </tbody>\n",
       "</table>\n",
       "<p>17682 rows × 18 columns</p>\n",
       "</div>"
      ],
      "text/plain": [
       "       Material Plant       Date               Description    Type  Supply  \\\n",
       "0      64640153  B124 2023-09-01  iPhone 14 128GB Midnight  Mobile   196.0   \n",
       "1      64640153  B124 2023-09-02  iPhone 14 128GB Midnight  Mobile     0.0   \n",
       "2      64640153  B124 2023-09-03  iPhone 14 128GB Midnight  Mobile     0.0   \n",
       "3      64640153  B124 2023-09-04  iPhone 14 128GB Midnight  Mobile   241.0   \n",
       "4      64640153  B124 2023-09-05  iPhone 14 128GB Midnight  Mobile     0.0   \n",
       "...         ...   ...        ...                       ...     ...     ...   \n",
       "17677  64640153  T942 2024-03-25  iPhone 14 128GB Midnight  Mobile     0.0   \n",
       "17678  64640153  T942 2024-03-26  iPhone 14 128GB Midnight  Mobile     0.0   \n",
       "17679  64640153  T942 2024-03-27  iPhone 14 128GB Midnight  Mobile     0.0   \n",
       "17680  64640153  T942 2024-03-28  iPhone 14 128GB Midnight  Mobile     0.0   \n",
       "17681  64640153  T942 2024-03-29  iPhone 14 128GB Midnight  Mobile     0.0   \n",
       "\n",
       "       Demand    Price    Status  Current_month_forecast  Daily_forecast  \\\n",
       "0         0.0  1019.99  Maturity                   600.0            0.36   \n",
       "1         0.0  1019.99  Maturity                   600.0            0.36   \n",
       "2         0.0  1019.99  Maturity                   600.0            0.36   \n",
       "3         1.0  1019.99  Maturity                   600.0            0.33   \n",
       "4         0.0  1019.99  Maturity                   600.0            0.34   \n",
       "...       ...      ...       ...                     ...             ...   \n",
       "17677     0.0   819.99  Maturity                   250.0            0.11   \n",
       "17678     0.0   819.99  Maturity                   250.0            0.11   \n",
       "17679     0.0   819.99  Maturity                   250.0            0.11   \n",
       "17680     0.0   819.99  Maturity                   250.0            0.11   \n",
       "17681     0.0   819.99  Maturity                   250.0            0.11   \n",
       "\n",
       "      Hist_method  Hist_activity  Hist_shop_stock  Hist_supplier_stock  \\\n",
       "0            AUTO          14.12              2.0                  0.0   \n",
       "1            AUTO          14.12              2.0                  0.0   \n",
       "2            AUTO          14.12              2.0                  0.0   \n",
       "3            AUTO          14.52              2.0                  0.0   \n",
       "4            AUTO          13.64              3.0                  0.0   \n",
       "...           ...            ...              ...                  ...   \n",
       "17677        AUTO          15.84              2.0                381.0   \n",
       "17678      MANUAL          15.80              2.0                373.0   \n",
       "17679      MANUAL          15.19              4.0                366.0   \n",
       "17680      MANUAL          14.73              4.0                362.0   \n",
       "17681      MANUAL          14.58              4.0                359.0   \n",
       "\n",
       "       Hist_sales   Volume  Our Forecast  \n",
       "0               0     0.00      0.227484  \n",
       "1               0     0.00      0.220632  \n",
       "2               0     0.00      0.219510  \n",
       "3               1  1019.99      0.207243  \n",
       "4               0     0.00      0.246413  \n",
       "...           ...      ...           ...  \n",
       "17677           0     0.00      0.015821  \n",
       "17678           0     0.00      0.381283  \n",
       "17679           0     0.00      0.300672  \n",
       "17680           0     0.00      0.019388  \n",
       "17681           0     0.00      0.152601  \n",
       "\n",
       "[17682 rows x 18 columns]"
      ]
     },
     "execution_count": 256,
     "metadata": {},
     "output_type": "execute_result"
    }
   ],
   "source": [
    "#Retrieve our improved forecasted values from the modelling notebook\n",
    "df2 = pd.read_csv('/home/jovyan/vlerick/Forecast_64640153.csv')\n",
    "df2['Date'] = pd.to_datetime(df2['Date'])\n",
    "df2"
   ]
  },
  {
   "cell_type": "code",
   "execution_count": 260,
   "id": "29c3f325-a707-4b93-9468-4513d8537b9e",
   "metadata": {},
   "outputs": [],
   "source": [
    "#defining a function that retrieve our improved forecating figures instead of the given forecast\n",
    "def get_our_daily_forecast(material, plant, date):\n",
    "    try:\n",
    "        # Attempt to get the 'Our Forecast' value\n",
    "        forecast = df2[(df2['Material'] == material) & (df2['Plant'] == plant) & (df2['Date'] == date)]['Our Forecast'].iloc[0]\n",
    "        return forecast\n",
    "    except (IndexError, KeyError):\n",
    "        # If an error occurs, return 0\n",
    "        return 0"
   ]
  },
  {
   "cell_type": "code",
   "execution_count": 265,
   "id": "455ff5c2-e528-4107-b45c-80cb2e76dbc9",
   "metadata": {},
   "outputs": [],
   "source": [
    "def our_forecast_policy(env, level):\n",
    "    material = 64640153 #to check against benchmark\n",
    "    forecast = []\n",
    "    forecast_next_day = []\n",
    "    forecast_next_day2 = []\n",
    "    forecast_next_day3 = []\n",
    "    inventory = []\n",
    "    date = env.index\n",
    "    next_day = env.index+timedelta(days=1)\n",
    "    next_day2 = env.index+timedelta(days=2)\n",
    "    next_day3 = env.index+timedelta(days=3)\n",
    "    \n",
    "    \n",
    "    for plant in mpenv.plants:\n",
    "            daily_forecast = get_our_daily_forecast(material, plant, date)\n",
    "            forecast.append(daily_forecast)\n",
    "            daily_forecast = get_our_daily_forecast(material, plant, next_day)\n",
    "            forecast_next_day.append(daily_forecast)\n",
    "            daily_forecast = get_our_daily_forecast(material, plant, next_day2)\n",
    "            forecast_next_day2.append(daily_forecast)\n",
    "            daily_forecast = get_our_daily_forecast(material, plant, next_day3)\n",
    "            forecast_next_day3.append(daily_forecast)\n",
    "    \n",
    "    inv = list(env.inv.values())[-1]\n",
    "    forecast_array = np.array(forecast)\n",
    "    if date == datetime.datetime(2023, 9, 1, 0, 0, 0) or date == datetime.datetime(2023, 9, 2, 0, 0, 0):\n",
    "        ordr = [0] * 88\n",
    "        \n",
    "        \n",
    "    else: \n",
    "        ordr = list(env.ordr.values())[-1]\n",
    "    \n",
    "    inv0 = inv-forecast\n",
    "    inv0[inv0 < 0] = 0\n",
    "    if date == datetime.datetime(2023, 9, 1, 0, 0, 0) or date == datetime.datetime(2023, 9, 2, 0, 0, 0):\n",
    "        ordr_previous_day = 0\n",
    "    \n",
    "    else:\n",
    "        previous_day = env.index+timedelta(days=-1)\n",
    "        #ordr_previous_day = env.ordr[previous_day]\n",
    "        ordr_previous_day = list(env.ordr.values())[-2]\n",
    "        \n",
    "        \n",
    "    inv1 = inv0-forecast_next_day + ordr_previous_day\n",
    "    inv1[inv1 < 0] = 0\n",
    "    inv2 = inv1-forecast_next_day2 + ordr\n",
    "    inv2[inv2 < 0] = 0\n",
    "    inv3 = inv2-forecast_next_day3\n",
    "    \n",
    "    treshold = level\n",
    "    print(date)\n",
    "\n",
    "    action = treshold-inv3\n",
    "    action[action < 0] = 0\n",
    "    action = np.round(action)\n",
    "\n",
    "    \n",
    "    return action"
   ]
  },
  {
   "cell_type": "code",
   "execution_count": 267,
   "id": "c8dd5cca-4fc7-4c47-891b-6d3e32a29d61",
   "metadata": {},
   "outputs": [
    {
     "name": "stderr",
     "output_type": "stream",
     "text": [
      "/home/jovyan/.local/lib/python3.7/site-packages/ipykernel_launcher.py:34: RuntimeWarning: invalid value encountered in less\n",
      "/home/jovyan/.local/lib/python3.7/site-packages/ipykernel_launcher.py:45: RuntimeWarning: invalid value encountered in less\n",
      "/home/jovyan/.local/lib/python3.7/site-packages/ipykernel_launcher.py:47: RuntimeWarning: invalid value encountered in less\n",
      "/home/jovyan/.local/lib/python3.7/site-packages/ipykernel_launcher.py:54: RuntimeWarning: invalid value encountered in less\n",
      "/home/jovyan/vlerick/custom_objects.py:379: RuntimeWarning: invalid value encountered in greater\n",
      "/home/jovyan/vlerick/custom_objects.py:380: RuntimeWarning: invalid value encountered in greater\n"
     ]
    },
    {
     "name": "stdout",
     "output_type": "stream",
     "text": [
      "2023-09-01 00:00:00\n",
      "2023-09-02 00:00:00\n",
      "2023-09-03 00:00:00\n",
      "2023-09-04 00:00:00\n",
      "2023-09-05 00:00:00\n",
      "2023-09-06 00:00:00\n",
      "2023-09-07 00:00:00\n",
      "2023-09-08 00:00:00\n",
      "2023-09-09 00:00:00\n",
      "2023-09-10 00:00:00\n",
      "2023-09-11 00:00:00\n",
      "2023-09-12 00:00:00\n",
      "2023-09-13 00:00:00\n",
      "2023-09-14 00:00:00\n",
      "2023-09-15 00:00:00\n",
      "2023-09-16 00:00:00\n",
      "2023-09-17 00:00:00\n",
      "2023-09-18 00:00:00\n",
      "2023-09-19 00:00:00\n",
      "2023-09-20 00:00:00\n",
      "2023-09-21 00:00:00\n",
      "2023-09-22 00:00:00\n",
      "2023-09-23 00:00:00\n",
      "2023-09-24 00:00:00\n",
      "2023-09-25 00:00:00\n",
      "2023-09-26 00:00:00\n",
      "2023-09-27 00:00:00\n",
      "2023-09-28 00:00:00\n",
      "2023-09-29 00:00:00\n",
      "2023-09-30 00:00:00\n",
      "2023-10-01 00:00:00\n",
      "2023-10-02 00:00:00\n",
      "2023-10-03 00:00:00\n",
      "2023-10-04 00:00:00\n",
      "2023-10-05 00:00:00\n",
      "2023-10-06 00:00:00\n",
      "2023-10-07 00:00:00\n",
      "2023-10-08 00:00:00\n",
      "2023-10-09 00:00:00\n",
      "2023-10-10 00:00:00\n",
      "2023-10-11 00:00:00\n",
      "2023-10-12 00:00:00\n",
      "2023-10-13 00:00:00\n",
      "2023-10-14 00:00:00\n",
      "2023-10-15 00:00:00\n",
      "2023-10-16 00:00:00\n",
      "2023-10-17 00:00:00\n",
      "2023-10-18 00:00:00\n",
      "2023-10-19 00:00:00\n",
      "2023-10-20 00:00:00\n",
      "2023-10-21 00:00:00\n",
      "2023-10-22 00:00:00\n",
      "2023-10-23 00:00:00\n",
      "2023-10-24 00:00:00\n",
      "2023-10-25 00:00:00\n",
      "2023-10-26 00:00:00\n",
      "2023-10-27 00:00:00\n",
      "2023-10-28 00:00:00\n",
      "2023-10-29 00:00:00\n",
      "2023-10-30 00:00:00\n",
      "2023-10-31 00:00:00\n",
      "2023-11-01 00:00:00\n",
      "2023-11-02 00:00:00\n",
      "2023-11-03 00:00:00\n",
      "2023-11-04 00:00:00\n",
      "2023-11-05 00:00:00\n",
      "2023-11-06 00:00:00\n",
      "2023-11-07 00:00:00\n",
      "2023-11-08 00:00:00\n",
      "2023-11-09 00:00:00\n",
      "2023-11-10 00:00:00\n",
      "2023-11-11 00:00:00\n",
      "2023-11-12 00:00:00\n",
      "2023-11-13 00:00:00\n",
      "2023-11-14 00:00:00\n",
      "2023-11-15 00:00:00\n",
      "2023-11-16 00:00:00\n",
      "2023-11-17 00:00:00\n",
      "2023-11-18 00:00:00\n",
      "2023-11-19 00:00:00\n",
      "2023-11-20 00:00:00\n",
      "2023-11-21 00:00:00\n",
      "2023-11-22 00:00:00\n",
      "2023-11-23 00:00:00\n",
      "2023-11-24 00:00:00\n",
      "2023-11-25 00:00:00\n",
      "2023-11-26 00:00:00\n",
      "2023-11-27 00:00:00\n",
      "2023-11-28 00:00:00\n",
      "2023-11-29 00:00:00\n",
      "2023-11-30 00:00:00\n",
      "2023-12-01 00:00:00\n",
      "2023-12-02 00:00:00\n",
      "2023-12-03 00:00:00\n",
      "2023-12-04 00:00:00\n",
      "2023-12-05 00:00:00\n",
      "2023-12-06 00:00:00\n",
      "2023-12-07 00:00:00\n",
      "2023-12-08 00:00:00\n",
      "2023-12-09 00:00:00\n",
      "2023-12-10 00:00:00\n",
      "2023-12-11 00:00:00\n",
      "2023-12-12 00:00:00\n",
      "2023-12-13 00:00:00\n",
      "2023-12-14 00:00:00\n",
      "2023-12-15 00:00:00\n",
      "2023-12-16 00:00:00\n",
      "2023-12-17 00:00:00\n",
      "2023-12-18 00:00:00\n",
      "2023-12-19 00:00:00\n",
      "2023-12-20 00:00:00\n",
      "2023-12-21 00:00:00\n",
      "2023-12-22 00:00:00\n",
      "2023-12-23 00:00:00\n",
      "2023-12-24 00:00:00\n",
      "2023-12-25 00:00:00\n",
      "2023-12-26 00:00:00\n",
      "2023-12-27 00:00:00\n",
      "2023-12-28 00:00:00\n",
      "2023-12-29 00:00:00\n",
      "2023-12-30 00:00:00\n",
      "2023-12-31 00:00:00\n",
      "2024-01-01 00:00:00\n",
      "2024-01-02 00:00:00\n",
      "2024-01-03 00:00:00\n",
      "2024-01-04 00:00:00\n",
      "2024-01-05 00:00:00\n",
      "2024-01-06 00:00:00\n",
      "2024-01-07 00:00:00\n",
      "2024-01-08 00:00:00\n",
      "2024-01-09 00:00:00\n",
      "2024-01-10 00:00:00\n",
      "2024-01-11 00:00:00\n",
      "2024-01-12 00:00:00\n",
      "2024-01-13 00:00:00\n",
      "2024-01-14 00:00:00\n",
      "2024-01-15 00:00:00\n",
      "2024-01-16 00:00:00\n",
      "2024-01-17 00:00:00\n",
      "2024-01-18 00:00:00\n",
      "2024-01-19 00:00:00\n",
      "2024-01-20 00:00:00\n",
      "2024-01-21 00:00:00\n",
      "2024-01-22 00:00:00\n",
      "2024-01-23 00:00:00\n",
      "2024-01-24 00:00:00\n",
      "2024-01-25 00:00:00\n",
      "2024-01-26 00:00:00\n",
      "2024-01-27 00:00:00\n",
      "2024-01-28 00:00:00\n",
      "2024-01-29 00:00:00\n",
      "2024-01-30 00:00:00\n",
      "2024-01-31 00:00:00\n",
      "2024-02-01 00:00:00\n",
      "2024-02-02 00:00:00\n",
      "2024-02-03 00:00:00\n",
      "2024-02-04 00:00:00\n",
      "2024-02-05 00:00:00\n",
      "2024-02-06 00:00:00\n",
      "2024-02-07 00:00:00\n",
      "2024-02-08 00:00:00\n",
      "2024-02-09 00:00:00\n",
      "2024-02-10 00:00:00\n",
      "2024-02-11 00:00:00\n",
      "2024-02-12 00:00:00\n",
      "2024-02-13 00:00:00\n",
      "2024-02-14 00:00:00\n",
      "2024-02-15 00:00:00\n",
      "2024-02-16 00:00:00\n",
      "2024-02-17 00:00:00\n",
      "2024-02-18 00:00:00\n",
      "2024-02-19 00:00:00\n",
      "2024-02-20 00:00:00\n",
      "2024-02-21 00:00:00\n",
      "2024-02-22 00:00:00\n",
      "2024-02-23 00:00:00\n",
      "2024-02-24 00:00:00\n",
      "2024-02-25 00:00:00\n",
      "2024-02-26 00:00:00\n",
      "2024-02-27 00:00:00\n",
      "2024-02-28 00:00:00\n",
      "2024-02-29 00:00:00\n",
      "2024-03-01 00:00:00\n",
      "2024-03-02 00:00:00\n",
      "2024-03-03 00:00:00\n",
      "2024-03-04 00:00:00\n",
      "2024-03-05 00:00:00\n",
      "2024-03-06 00:00:00\n",
      "2024-03-07 00:00:00\n",
      "2024-03-08 00:00:00\n",
      "2024-03-09 00:00:00\n",
      "2024-03-10 00:00:00\n",
      "2024-03-11 00:00:00\n",
      "2024-03-12 00:00:00\n",
      "2024-03-13 00:00:00\n",
      "2024-03-14 00:00:00\n",
      "2024-03-15 00:00:00\n",
      "2024-03-16 00:00:00\n",
      "2024-03-17 00:00:00\n",
      "2024-03-18 00:00:00\n",
      "2024-03-19 00:00:00\n",
      "2024-03-20 00:00:00\n",
      "2024-03-21 00:00:00\n",
      "2024-03-22 00:00:00\n",
      "2024-03-23 00:00:00\n",
      "2024-03-24 00:00:00\n",
      "2024-03-25 00:00:00\n",
      "2024-03-26 00:00:00\n",
      "2024-03-27 00:00:00\n",
      "2024-03-28 00:00:00\n",
      "2023-09-01 00:00:00\n",
      "2023-09-02 00:00:00\n",
      "2023-09-03 00:00:00\n",
      "2023-09-04 00:00:00\n",
      "2023-09-05 00:00:00\n",
      "2023-09-06 00:00:00\n",
      "2023-09-07 00:00:00\n",
      "2023-09-08 00:00:00\n",
      "2023-09-09 00:00:00\n",
      "2023-09-10 00:00:00\n",
      "2023-09-11 00:00:00\n",
      "2023-09-12 00:00:00\n",
      "2023-09-13 00:00:00\n",
      "2023-09-14 00:00:00\n",
      "2023-09-15 00:00:00\n",
      "2023-09-16 00:00:00\n",
      "2023-09-17 00:00:00\n",
      "2023-09-18 00:00:00\n",
      "2023-09-19 00:00:00\n",
      "2023-09-20 00:00:00\n",
      "2023-09-21 00:00:00\n",
      "2023-09-22 00:00:00\n",
      "2023-09-23 00:00:00\n",
      "2023-09-24 00:00:00\n",
      "2023-09-25 00:00:00\n",
      "2023-09-26 00:00:00\n",
      "2023-09-27 00:00:00\n",
      "2023-09-28 00:00:00\n",
      "2023-09-29 00:00:00\n",
      "2023-09-30 00:00:00\n",
      "2023-10-01 00:00:00\n",
      "2023-10-02 00:00:00\n",
      "2023-10-03 00:00:00\n",
      "2023-10-04 00:00:00\n",
      "2023-10-05 00:00:00\n",
      "2023-10-06 00:00:00\n",
      "2023-10-07 00:00:00\n",
      "2023-10-08 00:00:00\n",
      "2023-10-09 00:00:00\n",
      "2023-10-10 00:00:00\n",
      "2023-10-11 00:00:00\n",
      "2023-10-12 00:00:00\n",
      "2023-10-13 00:00:00\n",
      "2023-10-14 00:00:00\n",
      "2023-10-15 00:00:00\n",
      "2023-10-16 00:00:00\n",
      "2023-10-17 00:00:00\n",
      "2023-10-18 00:00:00\n",
      "2023-10-19 00:00:00\n",
      "2023-10-20 00:00:00\n",
      "2023-10-21 00:00:00\n",
      "2023-10-22 00:00:00\n",
      "2023-10-23 00:00:00\n",
      "2023-10-24 00:00:00\n",
      "2023-10-25 00:00:00\n",
      "2023-10-26 00:00:00\n",
      "2023-10-27 00:00:00\n",
      "2023-10-28 00:00:00\n",
      "2023-10-29 00:00:00\n",
      "2023-10-30 00:00:00\n",
      "2023-10-31 00:00:00\n",
      "2023-11-01 00:00:00\n",
      "2023-11-02 00:00:00\n",
      "2023-11-03 00:00:00\n",
      "2023-11-04 00:00:00\n",
      "2023-11-05 00:00:00\n",
      "2023-11-06 00:00:00\n",
      "2023-11-07 00:00:00\n",
      "2023-11-08 00:00:00\n",
      "2023-11-09 00:00:00\n",
      "2023-11-10 00:00:00\n",
      "2023-11-11 00:00:00\n",
      "2023-11-12 00:00:00\n",
      "2023-11-13 00:00:00\n",
      "2023-11-14 00:00:00\n",
      "2023-11-15 00:00:00\n",
      "2023-11-16 00:00:00\n",
      "2023-11-17 00:00:00\n",
      "2023-11-18 00:00:00\n",
      "2023-11-19 00:00:00\n",
      "2023-11-20 00:00:00\n",
      "2023-11-21 00:00:00\n",
      "2023-11-22 00:00:00\n",
      "2023-11-23 00:00:00\n",
      "2023-11-24 00:00:00\n",
      "2023-11-25 00:00:00\n",
      "2023-11-26 00:00:00\n",
      "2023-11-27 00:00:00\n",
      "2023-11-28 00:00:00\n",
      "2023-11-29 00:00:00\n",
      "2023-11-30 00:00:00\n",
      "2023-12-01 00:00:00\n",
      "2023-12-02 00:00:00\n",
      "2023-12-03 00:00:00\n",
      "2023-12-04 00:00:00\n",
      "2023-12-05 00:00:00\n",
      "2023-12-06 00:00:00\n",
      "2023-12-07 00:00:00\n",
      "2023-12-08 00:00:00\n",
      "2023-12-09 00:00:00\n",
      "2023-12-10 00:00:00\n",
      "2023-12-11 00:00:00\n",
      "2023-12-12 00:00:00\n",
      "2023-12-13 00:00:00\n",
      "2023-12-14 00:00:00\n",
      "2023-12-15 00:00:00\n",
      "2023-12-16 00:00:00\n",
      "2023-12-17 00:00:00\n",
      "2023-12-18 00:00:00\n",
      "2023-12-19 00:00:00\n",
      "2023-12-20 00:00:00\n",
      "2023-12-21 00:00:00\n",
      "2023-12-22 00:00:00\n",
      "2023-12-23 00:00:00\n",
      "2023-12-24 00:00:00\n",
      "2023-12-25 00:00:00\n",
      "2023-12-26 00:00:00\n",
      "2023-12-27 00:00:00\n",
      "2023-12-28 00:00:00\n",
      "2023-12-29 00:00:00\n",
      "2023-12-30 00:00:00\n",
      "2023-12-31 00:00:00\n",
      "2024-01-01 00:00:00\n",
      "2024-01-02 00:00:00\n",
      "2024-01-03 00:00:00\n",
      "2024-01-04 00:00:00\n",
      "2024-01-05 00:00:00\n",
      "2024-01-06 00:00:00\n",
      "2024-01-07 00:00:00\n",
      "2024-01-08 00:00:00\n",
      "2024-01-09 00:00:00\n",
      "2024-01-10 00:00:00\n",
      "2024-01-11 00:00:00\n",
      "2024-01-12 00:00:00\n",
      "2024-01-13 00:00:00\n",
      "2024-01-14 00:00:00\n",
      "2024-01-15 00:00:00\n",
      "2024-01-16 00:00:00\n",
      "2024-01-17 00:00:00\n",
      "2024-01-18 00:00:00\n",
      "2024-01-19 00:00:00\n",
      "2024-01-20 00:00:00\n",
      "2024-01-21 00:00:00\n",
      "2024-01-22 00:00:00\n",
      "2024-01-23 00:00:00\n",
      "2024-01-24 00:00:00\n",
      "2024-01-25 00:00:00\n",
      "2024-01-26 00:00:00\n",
      "2024-01-27 00:00:00\n",
      "2024-01-28 00:00:00\n",
      "2024-01-29 00:00:00\n",
      "2024-01-30 00:00:00\n",
      "2024-01-31 00:00:00\n",
      "2024-02-01 00:00:00\n",
      "2024-02-02 00:00:00\n",
      "2024-02-03 00:00:00\n",
      "2024-02-04 00:00:00\n",
      "2024-02-05 00:00:00\n",
      "2024-02-06 00:00:00\n",
      "2024-02-07 00:00:00\n",
      "2024-02-08 00:00:00\n",
      "2024-02-09 00:00:00\n",
      "2024-02-10 00:00:00\n",
      "2024-02-11 00:00:00\n",
      "2024-02-12 00:00:00\n",
      "2024-02-13 00:00:00\n",
      "2024-02-14 00:00:00\n",
      "2024-02-15 00:00:00\n",
      "2024-02-16 00:00:00\n",
      "2024-02-17 00:00:00\n",
      "2024-02-18 00:00:00\n",
      "2024-02-19 00:00:00\n",
      "2024-02-20 00:00:00\n",
      "2024-02-21 00:00:00\n",
      "2024-02-22 00:00:00\n",
      "2024-02-23 00:00:00\n",
      "2024-02-24 00:00:00\n",
      "2024-02-25 00:00:00\n",
      "2024-02-26 00:00:00\n",
      "2024-02-27 00:00:00\n",
      "2024-02-28 00:00:00\n",
      "2024-02-29 00:00:00\n",
      "2024-03-01 00:00:00\n",
      "2024-03-02 00:00:00\n",
      "2024-03-03 00:00:00\n",
      "2024-03-04 00:00:00\n",
      "2024-03-05 00:00:00\n",
      "2024-03-06 00:00:00\n",
      "2024-03-07 00:00:00\n",
      "2024-03-08 00:00:00\n",
      "2024-03-09 00:00:00\n",
      "2024-03-10 00:00:00\n",
      "2024-03-11 00:00:00\n",
      "2024-03-12 00:00:00\n",
      "2024-03-13 00:00:00\n",
      "2024-03-14 00:00:00\n",
      "2024-03-15 00:00:00\n",
      "2024-03-16 00:00:00\n",
      "2024-03-17 00:00:00\n",
      "2024-03-18 00:00:00\n",
      "2024-03-19 00:00:00\n",
      "2024-03-20 00:00:00\n",
      "2024-03-21 00:00:00\n",
      "2024-03-22 00:00:00\n",
      "2024-03-23 00:00:00\n",
      "2024-03-24 00:00:00\n",
      "2024-03-25 00:00:00\n",
      "2024-03-26 00:00:00\n",
      "2024-03-27 00:00:00\n",
      "2024-03-28 00:00:00\n",
      "2023-09-01 00:00:00\n",
      "2023-09-02 00:00:00\n",
      "2023-09-03 00:00:00\n",
      "2023-09-04 00:00:00\n",
      "2023-09-05 00:00:00\n",
      "2023-09-06 00:00:00\n",
      "2023-09-07 00:00:00\n",
      "2023-09-08 00:00:00\n",
      "2023-09-09 00:00:00\n",
      "2023-09-10 00:00:00\n",
      "2023-09-11 00:00:00\n",
      "2023-09-12 00:00:00\n",
      "2023-09-13 00:00:00\n",
      "2023-09-14 00:00:00\n",
      "2023-09-15 00:00:00\n",
      "2023-09-16 00:00:00\n",
      "2023-09-17 00:00:00\n",
      "2023-09-18 00:00:00\n",
      "2023-09-19 00:00:00\n",
      "2023-09-20 00:00:00\n",
      "2023-09-21 00:00:00\n",
      "2023-09-22 00:00:00\n",
      "2023-09-23 00:00:00\n",
      "2023-09-24 00:00:00\n",
      "2023-09-25 00:00:00\n",
      "2023-09-26 00:00:00\n",
      "2023-09-27 00:00:00\n",
      "2023-09-28 00:00:00\n",
      "2023-09-29 00:00:00\n",
      "2023-09-30 00:00:00\n",
      "2023-10-01 00:00:00\n",
      "2023-10-02 00:00:00\n",
      "2023-10-03 00:00:00\n",
      "2023-10-04 00:00:00\n",
      "2023-10-05 00:00:00\n",
      "2023-10-06 00:00:00\n",
      "2023-10-07 00:00:00\n",
      "2023-10-08 00:00:00\n",
      "2023-10-09 00:00:00\n",
      "2023-10-10 00:00:00\n",
      "2023-10-11 00:00:00\n",
      "2023-10-12 00:00:00\n",
      "2023-10-13 00:00:00\n",
      "2023-10-14 00:00:00\n",
      "2023-10-15 00:00:00\n",
      "2023-10-16 00:00:00\n",
      "2023-10-17 00:00:00\n",
      "2023-10-18 00:00:00\n",
      "2023-10-19 00:00:00\n",
      "2023-10-20 00:00:00\n",
      "2023-10-21 00:00:00\n",
      "2023-10-22 00:00:00\n",
      "2023-10-23 00:00:00\n",
      "2023-10-24 00:00:00\n",
      "2023-10-25 00:00:00\n",
      "2023-10-26 00:00:00\n",
      "2023-10-27 00:00:00\n",
      "2023-10-28 00:00:00\n",
      "2023-10-29 00:00:00\n",
      "2023-10-30 00:00:00\n",
      "2023-10-31 00:00:00\n",
      "2023-11-01 00:00:00\n",
      "2023-11-02 00:00:00\n",
      "2023-11-03 00:00:00\n",
      "2023-11-04 00:00:00\n",
      "2023-11-05 00:00:00\n",
      "2023-11-06 00:00:00\n",
      "2023-11-07 00:00:00\n",
      "2023-11-08 00:00:00\n",
      "2023-11-09 00:00:00\n",
      "2023-11-10 00:00:00\n",
      "2023-11-11 00:00:00\n",
      "2023-11-12 00:00:00\n",
      "2023-11-13 00:00:00\n",
      "2023-11-14 00:00:00\n",
      "2023-11-15 00:00:00\n",
      "2023-11-16 00:00:00\n",
      "2023-11-17 00:00:00\n",
      "2023-11-18 00:00:00\n",
      "2023-11-19 00:00:00\n",
      "2023-11-20 00:00:00\n",
      "2023-11-21 00:00:00\n",
      "2023-11-22 00:00:00\n",
      "2023-11-23 00:00:00\n",
      "2023-11-24 00:00:00\n",
      "2023-11-25 00:00:00\n",
      "2023-11-26 00:00:00\n",
      "2023-11-27 00:00:00\n",
      "2023-11-28 00:00:00\n",
      "2023-11-29 00:00:00\n",
      "2023-11-30 00:00:00\n",
      "2023-12-01 00:00:00\n",
      "2023-12-02 00:00:00\n",
      "2023-12-03 00:00:00\n",
      "2023-12-04 00:00:00\n",
      "2023-12-05 00:00:00\n",
      "2023-12-06 00:00:00\n",
      "2023-12-07 00:00:00\n",
      "2023-12-08 00:00:00\n",
      "2023-12-09 00:00:00\n",
      "2023-12-10 00:00:00\n",
      "2023-12-11 00:00:00\n",
      "2023-12-12 00:00:00\n",
      "2023-12-13 00:00:00\n",
      "2023-12-14 00:00:00\n",
      "2023-12-15 00:00:00\n",
      "2023-12-16 00:00:00\n",
      "2023-12-17 00:00:00\n",
      "2023-12-18 00:00:00\n",
      "2023-12-19 00:00:00\n",
      "2023-12-20 00:00:00\n",
      "2023-12-21 00:00:00\n",
      "2023-12-22 00:00:00\n",
      "2023-12-23 00:00:00\n",
      "2023-12-24 00:00:00\n",
      "2023-12-25 00:00:00\n",
      "2023-12-26 00:00:00\n",
      "2023-12-27 00:00:00\n",
      "2023-12-28 00:00:00\n",
      "2023-12-29 00:00:00\n",
      "2023-12-30 00:00:00\n",
      "2023-12-31 00:00:00\n",
      "2024-01-01 00:00:00\n",
      "2024-01-02 00:00:00\n",
      "2024-01-03 00:00:00\n",
      "2024-01-04 00:00:00\n",
      "2024-01-05 00:00:00\n",
      "2024-01-06 00:00:00\n",
      "2024-01-07 00:00:00\n",
      "2024-01-08 00:00:00\n",
      "2024-01-09 00:00:00\n",
      "2024-01-10 00:00:00\n",
      "2024-01-11 00:00:00\n",
      "2024-01-12 00:00:00\n",
      "2024-01-13 00:00:00\n",
      "2024-01-14 00:00:00\n",
      "2024-01-15 00:00:00\n",
      "2024-01-16 00:00:00\n",
      "2024-01-17 00:00:00\n",
      "2024-01-18 00:00:00\n",
      "2024-01-19 00:00:00\n",
      "2024-01-20 00:00:00\n",
      "2024-01-21 00:00:00\n",
      "2024-01-22 00:00:00\n",
      "2024-01-23 00:00:00\n",
      "2024-01-24 00:00:00\n",
      "2024-01-25 00:00:00\n",
      "2024-01-26 00:00:00\n",
      "2024-01-27 00:00:00\n",
      "2024-01-28 00:00:00\n",
      "2024-01-29 00:00:00\n",
      "2024-01-30 00:00:00\n",
      "2024-01-31 00:00:00\n",
      "2024-02-01 00:00:00\n",
      "2024-02-02 00:00:00\n",
      "2024-02-03 00:00:00\n",
      "2024-02-04 00:00:00\n",
      "2024-02-05 00:00:00\n",
      "2024-02-06 00:00:00\n",
      "2024-02-07 00:00:00\n",
      "2024-02-08 00:00:00\n",
      "2024-02-09 00:00:00\n",
      "2024-02-10 00:00:00\n",
      "2024-02-11 00:00:00\n",
      "2024-02-12 00:00:00\n",
      "2024-02-13 00:00:00\n",
      "2024-02-14 00:00:00\n",
      "2024-02-15 00:00:00\n",
      "2024-02-16 00:00:00\n",
      "2024-02-17 00:00:00\n",
      "2024-02-18 00:00:00\n",
      "2024-02-19 00:00:00\n",
      "2024-02-20 00:00:00\n",
      "2024-02-21 00:00:00\n",
      "2024-02-22 00:00:00\n",
      "2024-02-23 00:00:00\n",
      "2024-02-24 00:00:00\n",
      "2024-02-25 00:00:00\n",
      "2024-02-26 00:00:00\n",
      "2024-02-27 00:00:00\n",
      "2024-02-28 00:00:00\n",
      "2024-02-29 00:00:00\n",
      "2024-03-01 00:00:00\n",
      "2024-03-02 00:00:00\n",
      "2024-03-03 00:00:00\n",
      "2024-03-04 00:00:00\n",
      "2024-03-05 00:00:00\n",
      "2024-03-06 00:00:00\n",
      "2024-03-07 00:00:00\n",
      "2024-03-08 00:00:00\n",
      "2024-03-09 00:00:00\n",
      "2024-03-10 00:00:00\n",
      "2024-03-11 00:00:00\n",
      "2024-03-12 00:00:00\n",
      "2024-03-13 00:00:00\n",
      "2024-03-14 00:00:00\n",
      "2024-03-15 00:00:00\n",
      "2024-03-16 00:00:00\n",
      "2024-03-17 00:00:00\n",
      "2024-03-18 00:00:00\n",
      "2024-03-19 00:00:00\n",
      "2024-03-20 00:00:00\n",
      "2024-03-21 00:00:00\n",
      "2024-03-22 00:00:00\n",
      "2024-03-23 00:00:00\n",
      "2024-03-24 00:00:00\n",
      "2024-03-25 00:00:00\n",
      "2024-03-26 00:00:00\n",
      "2024-03-27 00:00:00\n",
      "2024-03-28 00:00:00\n",
      "2023-09-01 00:00:00\n",
      "2023-09-02 00:00:00\n",
      "2023-09-03 00:00:00\n",
      "2023-09-04 00:00:00\n",
      "2023-09-05 00:00:00\n",
      "2023-09-06 00:00:00\n",
      "2023-09-07 00:00:00\n",
      "2023-09-08 00:00:00\n",
      "2023-09-09 00:00:00\n",
      "2023-09-10 00:00:00\n",
      "2023-09-11 00:00:00\n",
      "2023-09-12 00:00:00\n",
      "2023-09-13 00:00:00\n",
      "2023-09-14 00:00:00\n",
      "2023-09-15 00:00:00\n",
      "2023-09-16 00:00:00\n",
      "2023-09-17 00:00:00\n",
      "2023-09-18 00:00:00\n",
      "2023-09-19 00:00:00\n",
      "2023-09-20 00:00:00\n",
      "2023-09-21 00:00:00\n",
      "2023-09-22 00:00:00\n",
      "2023-09-23 00:00:00\n",
      "2023-09-24 00:00:00\n",
      "2023-09-25 00:00:00\n",
      "2023-09-26 00:00:00\n",
      "2023-09-27 00:00:00\n",
      "2023-09-28 00:00:00\n",
      "2023-09-29 00:00:00\n",
      "2023-09-30 00:00:00\n",
      "2023-10-01 00:00:00\n",
      "2023-10-02 00:00:00\n",
      "2023-10-03 00:00:00\n",
      "2023-10-04 00:00:00\n",
      "2023-10-05 00:00:00\n",
      "2023-10-06 00:00:00\n",
      "2023-10-07 00:00:00\n",
      "2023-10-08 00:00:00\n",
      "2023-10-09 00:00:00\n",
      "2023-10-10 00:00:00\n",
      "2023-10-11 00:00:00\n",
      "2023-10-12 00:00:00\n",
      "2023-10-13 00:00:00\n",
      "2023-10-14 00:00:00\n",
      "2023-10-15 00:00:00\n",
      "2023-10-16 00:00:00\n",
      "2023-10-17 00:00:00\n",
      "2023-10-18 00:00:00\n",
      "2023-10-19 00:00:00\n",
      "2023-10-20 00:00:00\n",
      "2023-10-21 00:00:00\n",
      "2023-10-22 00:00:00\n",
      "2023-10-23 00:00:00\n",
      "2023-10-24 00:00:00\n",
      "2023-10-25 00:00:00\n",
      "2023-10-26 00:00:00\n",
      "2023-10-27 00:00:00\n",
      "2023-10-28 00:00:00\n",
      "2023-10-29 00:00:00\n",
      "2023-10-30 00:00:00\n",
      "2023-10-31 00:00:00\n",
      "2023-11-01 00:00:00\n",
      "2023-11-02 00:00:00\n",
      "2023-11-03 00:00:00\n",
      "2023-11-04 00:00:00\n",
      "2023-11-05 00:00:00\n",
      "2023-11-06 00:00:00\n",
      "2023-11-07 00:00:00\n",
      "2023-11-08 00:00:00\n",
      "2023-11-09 00:00:00\n",
      "2023-11-10 00:00:00\n",
      "2023-11-11 00:00:00\n",
      "2023-11-12 00:00:00\n",
      "2023-11-13 00:00:00\n",
      "2023-11-14 00:00:00\n",
      "2023-11-15 00:00:00\n",
      "2023-11-16 00:00:00\n",
      "2023-11-17 00:00:00\n",
      "2023-11-18 00:00:00\n",
      "2023-11-19 00:00:00\n",
      "2023-11-20 00:00:00\n",
      "2023-11-21 00:00:00\n",
      "2023-11-22 00:00:00\n",
      "2023-11-23 00:00:00\n",
      "2023-11-24 00:00:00\n",
      "2023-11-25 00:00:00\n",
      "2023-11-26 00:00:00\n",
      "2023-11-27 00:00:00\n",
      "2023-11-28 00:00:00\n",
      "2023-11-29 00:00:00\n",
      "2023-11-30 00:00:00\n",
      "2023-12-01 00:00:00\n",
      "2023-12-02 00:00:00\n",
      "2023-12-03 00:00:00\n",
      "2023-12-04 00:00:00\n",
      "2023-12-05 00:00:00\n",
      "2023-12-06 00:00:00\n",
      "2023-12-07 00:00:00\n",
      "2023-12-08 00:00:00\n",
      "2023-12-09 00:00:00\n",
      "2023-12-10 00:00:00\n",
      "2023-12-11 00:00:00\n",
      "2023-12-12 00:00:00\n",
      "2023-12-13 00:00:00\n",
      "2023-12-14 00:00:00\n",
      "2023-12-15 00:00:00\n",
      "2023-12-16 00:00:00\n",
      "2023-12-17 00:00:00\n",
      "2023-12-18 00:00:00\n",
      "2023-12-19 00:00:00\n",
      "2023-12-20 00:00:00\n",
      "2023-12-21 00:00:00\n",
      "2023-12-22 00:00:00\n",
      "2023-12-23 00:00:00\n",
      "2023-12-24 00:00:00\n",
      "2023-12-25 00:00:00\n",
      "2023-12-26 00:00:00\n",
      "2023-12-27 00:00:00\n",
      "2023-12-28 00:00:00\n",
      "2023-12-29 00:00:00\n",
      "2023-12-30 00:00:00\n",
      "2023-12-31 00:00:00\n",
      "2024-01-01 00:00:00\n",
      "2024-01-02 00:00:00\n",
      "2024-01-03 00:00:00\n",
      "2024-01-04 00:00:00\n",
      "2024-01-05 00:00:00\n",
      "2024-01-06 00:00:00\n",
      "2024-01-07 00:00:00\n",
      "2024-01-08 00:00:00\n",
      "2024-01-09 00:00:00\n",
      "2024-01-10 00:00:00\n",
      "2024-01-11 00:00:00\n",
      "2024-01-12 00:00:00\n",
      "2024-01-13 00:00:00\n",
      "2024-01-14 00:00:00\n",
      "2024-01-15 00:00:00\n",
      "2024-01-16 00:00:00\n",
      "2024-01-17 00:00:00\n",
      "2024-01-18 00:00:00\n",
      "2024-01-19 00:00:00\n",
      "2024-01-20 00:00:00\n",
      "2024-01-21 00:00:00\n",
      "2024-01-22 00:00:00\n",
      "2024-01-23 00:00:00\n",
      "2024-01-24 00:00:00\n",
      "2024-01-25 00:00:00\n",
      "2024-01-26 00:00:00\n",
      "2024-01-27 00:00:00\n",
      "2024-01-28 00:00:00\n",
      "2024-01-29 00:00:00\n",
      "2024-01-30 00:00:00\n",
      "2024-01-31 00:00:00\n",
      "2024-02-01 00:00:00\n",
      "2024-02-02 00:00:00\n",
      "2024-02-03 00:00:00\n",
      "2024-02-04 00:00:00\n",
      "2024-02-05 00:00:00\n",
      "2024-02-06 00:00:00\n",
      "2024-02-07 00:00:00\n",
      "2024-02-08 00:00:00\n",
      "2024-02-09 00:00:00\n",
      "2024-02-10 00:00:00\n",
      "2024-02-11 00:00:00\n",
      "2024-02-12 00:00:00\n",
      "2024-02-13 00:00:00\n",
      "2024-02-14 00:00:00\n",
      "2024-02-15 00:00:00\n",
      "2024-02-16 00:00:00\n",
      "2024-02-17 00:00:00\n",
      "2024-02-18 00:00:00\n",
      "2024-02-19 00:00:00\n",
      "2024-02-20 00:00:00\n",
      "2024-02-21 00:00:00\n",
      "2024-02-22 00:00:00\n",
      "2024-02-23 00:00:00\n",
      "2024-02-24 00:00:00\n",
      "2024-02-25 00:00:00\n",
      "2024-02-26 00:00:00\n",
      "2024-02-27 00:00:00\n",
      "2024-02-28 00:00:00\n",
      "2024-02-29 00:00:00\n",
      "2024-03-01 00:00:00\n",
      "2024-03-02 00:00:00\n",
      "2024-03-03 00:00:00\n",
      "2024-03-04 00:00:00\n",
      "2024-03-05 00:00:00\n",
      "2024-03-06 00:00:00\n",
      "2024-03-07 00:00:00\n",
      "2024-03-08 00:00:00\n",
      "2024-03-09 00:00:00\n",
      "2024-03-10 00:00:00\n",
      "2024-03-11 00:00:00\n",
      "2024-03-12 00:00:00\n",
      "2024-03-13 00:00:00\n",
      "2024-03-14 00:00:00\n",
      "2024-03-15 00:00:00\n",
      "2024-03-16 00:00:00\n",
      "2024-03-17 00:00:00\n",
      "2024-03-18 00:00:00\n",
      "2024-03-19 00:00:00\n",
      "2024-03-20 00:00:00\n",
      "2024-03-21 00:00:00\n",
      "2024-03-22 00:00:00\n",
      "2024-03-23 00:00:00\n",
      "2024-03-24 00:00:00\n",
      "2024-03-25 00:00:00\n",
      "2024-03-26 00:00:00\n",
      "2024-03-27 00:00:00\n",
      "2024-03-28 00:00:00\n"
     ]
    }
   ],
   "source": [
    "#Run for different safety stock levels to find optimal\n",
    "results = [int(run_policied_env(mpenv, policy=our_forecast_policy, params=i, render=False)) for i in range(0,4)]"
   ]
  },
  {
   "cell_type": "code",
   "execution_count": 268,
   "id": "087237eb-337f-489c-a12f-262d3bf7b537",
   "metadata": {},
   "outputs": [
    {
     "name": "stdout",
     "output_type": "stream",
     "text": [
      "-86935\n"
     ]
    },
    {
     "data": {
      "text/plain": [
       "[<matplotlib.lines.Line2D at 0x7f5934ef0350>]"
      ]
     },
     "execution_count": 268,
     "metadata": {},
     "output_type": "execute_result"
    },
    {
     "data": {
      "image/png": "[encoded data removed]",
      "text/plain": [
       "<Figure size 432x288 with 1 Axes>"
      ]
     },
     "metadata": {
      "needs_background": "light"
     },
     "output_type": "display_data"
    }
   ],
   "source": [
    "print(max(results))\n",
    "plt.scatter(np.argmax(results), max(results))\n",
    "plt.plot(results) "
   ]
  },
  {
   "cell_type": "code",
   "execution_count": 230,
   "id": "7598300f-4fbd-4e2a-befc-b77442ba3614",
   "metadata": {},
   "outputs": [
    {
     "data": {
      "image/png": "[encoded data removed]",
      "text/plain": [
       "<Figure size 1224x504 with 1 Axes>"
      ]
     },
     "metadata": {
      "needs_background": "light"
     },
     "output_type": "display_data"
    }
   ],
   "source": [
    "mpenv.plot()"
   ]
  },
  {
   "cell_type": "code",
   "execution_count": 278,
   "id": "769ae5c8-ae6a-4b33-84fd-1aeebfd998ff",
   "metadata": {},
   "outputs": [
    {
     "data": {
      "text/plain": [
       "<matplotlib.legend.Legend at 0x7f58b26db390>"
      ]
     },
     "execution_count": 278,
     "metadata": {},
     "output_type": "execute_result"
    },
    {
     "data": {
      "image/png": "[encoded data removed]",
      "text/plain": [
       "<Figure size 1080x504 with 1 Axes>"
      ]
     },
     "metadata": {
      "needs_background": "light"
     },
     "output_type": "display_data"
    }
   ],
   "source": [
    "#We plot for plant B319 to check the behaviour compared to the previous policy\n",
    "fig, ax = plt.subplots(figsize=(15, 7))\n",
    "plant = mpenv.plants[2]\n",
    "mpenv.read.ordr.loc[:, plant].replace(0, np.nan).plot(style=\".\", label='Orders')\n",
    "mpenv.read.inv.loc[:, plant].plot(c='C0', label='Inventory')\n",
    "mpenv.read.demand_dist.loc[:mpenv.index, plant].plot(label='Demand')\n",
    "mpenv.read.sales.loc[:, plant].add(0.05).plot(c='C1', linestyle='--', label='Sales')\n",
    "mpenv.read.understock.loc[:, plant].add(0.1).plot(c='black', label='Understock')\n",
    "plt.legend()"
   ]
  },
  {
   "cell_type": "code",
   "execution_count": null,
   "id": "50fdafbe-db4e-4d43-8478-b747f9a25ae8",
   "metadata": {},
   "outputs": [],
   "source": [
    "# This policy with the improved forecast performs much better than the old forecast\n",
    "# these policy can be run for all products and the new forecasted figures to retrieve the optimal safety stock levels\n",
    "# compute time restricted us in running the policy for all materials but the concept stays ecxactly the same"
   ]
  }
 ],
 "metadata": {
  "kernelspec": {
   "display_name": "vlerick",
   "language": "python",
   "name": "vlerick"
  },
  "language_info": {
   "codemirror_mode": {
    "name": "ipython",
    "version": 3
   },
   "file_extension": ".py",
   "mimetype": "text/x-python",
   "name": "python",
   "nbconvert_exporter": "python",
   "pygments_lexer": "ipython3",
   "version": "3.7.12"
  }
 },
 "nbformat": 4,
 "nbformat_minor": 5
}
